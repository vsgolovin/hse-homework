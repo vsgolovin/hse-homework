{
 "cells": [
  {
   "cell_type": "code",
   "execution_count": 2,
   "metadata": {},
   "outputs": [],
   "source": [
    "from sympy import *\n",
    "\n",
    "init_printing()"
   ]
  },
  {
   "cell_type": "code",
   "execution_count": 3,
   "metadata": {},
   "outputs": [
    {
     "data": {
      "image/png": "[encoded data removed]",
      "text/latex": [
       "$\\displaystyle k_{0} + k_{1} u + k_{2} \\cdot \\left(2 u^{2} - 1\\right) + k_{3} \\cdot \\left(4 u^{3} - 3 u\\right)$"
      ],
      "text/plain": [
       "               ⎛   2    ⎞      ⎛   3      ⎞\n",
       "k₀ + k₁⋅u + k₂⋅⎝2⋅u  - 1⎠ + k₃⋅⎝4⋅u  - 3⋅u⎠"
      ]
     },
     "execution_count": 3,
     "metadata": {},
     "output_type": "execute_result"
    }
   ],
   "source": [
    "k0, k1, k2, k3 = symbols('k_0 k_1 k_2 k_3')\n",
    "x, u = symbols('x u')\n",
    "\n",
    "T0 = 1\n",
    "T1 = u\n",
    "T2 = 2 * u**2 - 1\n",
    "T3 = 4 * u**3 - 3 * u\n",
    "\n",
    "g = k0 * T0 + k1 * T1 + k2 * T2 + k3 * T3\n",
    "g"
   ]
  },
  {
   "cell_type": "code",
   "execution_count": 6,
   "metadata": {},
   "outputs": [
    {
     "data": {
      "image/png": "[encoded data removed]",
      "text/latex": [
       "$\\displaystyle k_{0} + \\frac{k_{1} x}{3} - k_{1} + \\frac{2 k_{2} x^{2}}{9} - \\frac{4 k_{2} x}{3} + k_{2} + \\frac{4 k_{3} x^{3}}{27} - \\frac{4 k_{3} x^{2}}{3} + 3 k_{3} x - k_{3}$"
      ],
      "text/plain": [
       "                       2                       3         2              \n",
       "     k₁⋅x        2⋅k₂⋅x    4⋅k₂⋅x        4⋅k₃⋅x    4⋅k₃⋅x               \n",
       "k₀ + ──── - k₁ + ─────── - ────── + k₂ + ─────── - ─────── + 3⋅k₃⋅x - k₃\n",
       "      3             9        3              27        3                 "
      ]
     },
     "execution_count": 6,
     "metadata": {},
     "output_type": "execute_result"
    }
   ],
   "source": [
    "g_x = g.subs(u, (x - 3)/3)\n",
    "g_x.expand()"
   ]
  },
  {
   "cell_type": "code",
   "execution_count": 10,
   "metadata": {},
   "outputs": [
    {
     "data": {
      "image/png": "[encoded data removed]",
      "text/latex": [
       "$\\displaystyle \\left\\{ k_{0} : 4.12351379, \\  k_{1} : 1.64494557, \\  k_{2} : -0.52183173, \\  k_{3} : -0.10234826\\right\\}$"
      ],
      "text/plain": [
       "{k₀: 4.12351379, k₁: 1.64494557, k₂: -0.52183173, k₃: -0.10234826}"
      ]
     },
     "execution_count": 10,
     "metadata": {},
     "output_type": "execute_result"
    }
   ],
   "source": [
    "vals = dict(zip([k0, k1, k2, k3], [4.12351379, 1.64494557, -0.52183173, -0.10234826]))\n",
    "vals"
   ]
  },
  {
   "cell_type": "code",
   "execution_count": 11,
   "metadata": {},
   "outputs": [
    {
     "data": {
      "image/png": "[encoded data removed]",
      "text/latex": [
       "$\\displaystyle - 0.0151627051851852 x^{3} + 0.02050174 x^{2} + 0.93704605 x + 2.05908475$"
      ],
      "text/plain": [
       "                      3               2                            \n",
       "- 0.0151627051851852⋅x  + 0.02050174⋅x  + 0.93704605⋅x + 2.05908475"
      ]
     },
     "execution_count": 11,
     "metadata": {},
     "output_type": "execute_result"
    }
   ],
   "source": [
    "g_x.subs(vals).expand()"
   ]
  },
  {
   "cell_type": "code",
   "execution_count": null,
   "metadata": {},
   "outputs": [],
   "source": []
  }
 ],
 "metadata": {
  "interpreter": {
   "hash": "6c32c6d083563c90210d5b779823906b665ed5c76b0220fb07be966077710400"
  },
  "kernelspec": {
   "display_name": "Python 3.9.5 ('base')",
   "language": "python",
   "name": "python3"
  },
  "language_info": {
   "codemirror_mode": {
    "name": "ipython",
    "version": 3
   },
   "file_extension": ".py",
   "mimetype": "text/x-python",
   "name": "python",
   "nbconvert_exporter": "python",
   "pygments_lexer": "ipython3",
   "version": "3.9.7"
  },
  "orig_nbformat": 4
 },
 "nbformat": 4,
 "nbformat_minor": 2
}
