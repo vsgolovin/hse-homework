{
 "cells": [
  {
   "cell_type": "markdown",
   "id": "identical-swaziland",
   "metadata": {},
   "source": [
    "## Домашнее задание №1\n",
    "\n",
    "**Выполнил:** Головин В.С. (МОАД)"
   ]
  },
  {
   "cell_type": "markdown",
   "id": "greek-print",
   "metadata": {},
   "source": [
    "**Задание:** реализовать метод ломаных для поиска минимума функции одной переменной, протестировать написанную программу с помощью следующих функций:\n",
    "\n",
    "\\begin{equation*}\n",
    "f_1(x) = \\frac{x}{100} - \\frac{\\sin{x}}{x}\n",
    "\\end{equation*}\n",
    "\n",
    "\\begin{equation*}\n",
    "f_2(x) = \\sqrt{1 + \\varepsilon - \\frac{\\sin{x}}{x}}\n",
    "\\end{equation*}"
   ]
  },
  {
   "cell_type": "code",
   "execution_count": 1,
   "id": "continuous-shark",
   "metadata": {},
   "outputs": [],
   "source": [
    "import numpy as np\n",
    "import matplotlib.pyplot as plt\n",
    "import heapq  # мин-куча для метода ломаных\n",
    "from scipy.optimize import minimize_scalar  # для проверки результатов"
   ]
  },
  {
   "cell_type": "markdown",
   "id": "sonic-acrobat",
   "metadata": {},
   "source": [
    "Построим графики этих функций:"
   ]
  },
  {
   "cell_type": "code",
   "execution_count": 2,
   "id": "collective-breathing",
   "metadata": {},
   "outputs": [
    {
     "data": {
      "image/png": "[encoded data removed]",
      "text/plain": [
       "<Figure size 432x288 with 1 Axes>"
      ]
     },
     "metadata": {
      "needs_background": "light"
     },
     "output_type": "display_data"
    }
   ],
   "source": [
    "def f1(x):\n",
    "    if np.abs(x) < 1e-7:\n",
    "        b = 1\n",
    "    else:\n",
    "        b = np.sin(x) / x\n",
    "    return x / 100 - b\n",
    "\n",
    "def f2(x, eps=1e-2):\n",
    "    if np.abs(x) < 1e-7:\n",
    "        b = 1\n",
    "    else:\n",
    "        b = np.sin(x) / x\n",
    "    return np.sqrt(1 + eps - b)\n",
    "\n",
    "\n",
    "x = np.linspace(-10, 10, 1000)\n",
    "plt.figure()\n",
    "plt.plot(x, [f1(x_i) for x_i in x], label='$f_1(x)$')\n",
    "plt.plot(x, [f2(x_i) for x_i in x], label='$f_2(x)$')\n",
    "plt.legend();"
   ]
  },
  {
   "cell_type": "markdown",
   "id": "informational-endorsement",
   "metadata": {},
   "source": [
    "Ниже представлена функция `minimize`, решающая поставленную задачу. Код достаточно подробно задокументирован, ломаная функция обозначается как $g(x)$."
   ]
  },
  {
   "cell_type": "code",
   "execution_count": 3,
   "id": "stupid-labor",
   "metadata": {},
   "outputs": [],
   "source": [
    "def minimize(f, a, b, L, eps=1e-5, return_evals=False, maxfev=10000):\n",
    "    \"\"\"\n",
    "    Найти на отрезке [`a`, `b`] минимум функции `f`, удовлетворяющей\n",
    "    условию Липшица для `L`, с помощью метода ломаных.\n",
    "    Точность определяется параметром `eps`.\n",
    "    При `return_evals=True` дополнительно возвращается число вызовов\n",
    "    рассматриваемой функции.\n",
    "    Параметр `maxfev` устанавливает максимальное число вызовов функции.\n",
    "    \"\"\"\n",
    "    # первая точка -- пересечение двух прямых из (a, f(a))\n",
    "    # и (b, f(b)) с наклоном -L и L, соответственно\n",
    "    f_a = f(a)\n",
    "    f_b = f(b)\n",
    "    x = (a + b) / 2 + (f_a + f_b) / (2 * L)\n",
    "    g_x = (f_a + f_b + L * (a - b)) / 2\n",
    "    h = []  # мин-куча\n",
    "    heapq.heappush(h, (g_x, x))\n",
    "    \n",
    "    # итеративно ищем новые точки\n",
    "    # пока не найдём минимум с заданной точностью\n",
    "    num_evals = 2  # сколько раз вычислялись значения функции\n",
    "    while True:\n",
    "        g_x, x = heapq.heappop(h)  # исключаем точку с минимальным g(x)\n",
    "        f_x = f(x); num_evals += 1\n",
    "        delta = 1 / (2 * L) * (f_x - g_x)\n",
    "        if abs(2 * L * delta) < eps:\n",
    "            break  # достигнута требуемая точность\n",
    "        # добавляем новые точки слева и справа от x\n",
    "        g_new = (f_x + g_x) / 2\n",
    "        heapq.heappush(h, (g_new, x - delta))\n",
    "        heapq.heappush(h, (g_new, x + delta))\n",
    "\n",
    "        if num_evals > maxfev:\n",
    "            raise Exception('Превышено максимальное число вызовов функции')\n",
    "\n",
    "    # возвращаем результат\n",
    "    if not return_evals:\n",
    "        return x\n",
    "    return x, num_evals"
   ]
  },
  {
   "cell_type": "markdown",
   "id": "unexpected-stereo",
   "metadata": {},
   "source": [
    "Проверим работу метода на заданных выше функциях при $L = 0.5$:"
   ]
  },
  {
   "cell_type": "code",
   "execution_count": 4,
   "id": "compatible-briefing",
   "metadata": {},
   "outputs": [
    {
     "name": "stdout",
     "output_type": "stream",
     "text": [
      "Функция f1: минимум: -0.03359620064353541, число вызовов: 106\n"
     ]
    }
   ],
   "source": [
    "x_min, n = minimize(f1, -10, 10, L=0.5, eps=1e-3,\n",
    "                    return_evals=True)\n",
    "print(f'Функция f1: минимум: {x_min}, число вызовов: {n}')"
   ]
  },
  {
   "cell_type": "markdown",
   "id": "grand-finger",
   "metadata": {},
   "source": [
    " Сравним результат с методом `scipy.optimize.minimize_scalar`:"
   ]
  },
  {
   "cell_type": "code",
   "execution_count": 5,
   "id": "fossil-collaboration",
   "metadata": {},
   "outputs": [
    {
     "name": "stdout",
     "output_type": "stream",
     "text": [
      "Функция f1: минимум: -0.030002706981195584, число вызовов: 21\n"
     ]
    }
   ],
   "source": [
    "res = minimize_scalar(f1)\n",
    "print(f'Функция f1: минимум: {res.x}, число вызовов: {res.nfev}')"
   ]
  },
  {
   "cell_type": "markdown",
   "id": "explicit-contractor",
   "metadata": {},
   "source": [
    "Сделаем то же самое для функции $f_2$"
   ]
  },
  {
   "cell_type": "code",
   "execution_count": 6,
   "id": "editorial-causing",
   "metadata": {},
   "outputs": [
    {
     "name": "stdout",
     "output_type": "stream",
     "text": [
      "1. Метод ломаных\n",
      "Функция f2: минимум: -0.0008412475743320158, число вызовов: 58\n",
      "\n",
      "2. scipy.optimize.minimize_scalar\n",
      "Функция f2: минимум: 1.6370734986533456e-11, число вызовов: 18\n"
     ]
    }
   ],
   "source": [
    "print('1. Метод ломаных')\n",
    "x_min, n = minimize(f2, -10, 10, L=0.5, eps=1e-3,\n",
    "                    return_evals=True)\n",
    "print(f'Функция f2: минимум: {x_min}, число вызовов: {n}')\n",
    "\n",
    "print('\\n2. scipy.optimize.minimize_scalar')\n",
    "res = minimize_scalar(f2)\n",
    "print(f'Функция f2: минимум: {res.x}, число вызовов: {res.nfev}')"
   ]
  },
  {
   "cell_type": "code",
   "execution_count": null,
   "id": "offshore-guest",
   "metadata": {},
   "outputs": [],
   "source": []
  }
 ],
 "metadata": {
  "kernelspec": {
   "display_name": "Python 3",
   "language": "python",
   "name": "python3"
  },
  "language_info": {
   "codemirror_mode": {
    "name": "ipython",
    "version": 3
   },
   "file_extension": ".py",
   "mimetype": "text/x-python",
   "name": "python",
   "nbconvert_exporter": "python",
   "pygments_lexer": "ipython3",
   "version": "3.9.7"
  }
 },
 "nbformat": 4,
 "nbformat_minor": 5
}
