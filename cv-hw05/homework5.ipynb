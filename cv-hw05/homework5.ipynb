{
 "cells": [
  {
   "cell_type": "markdown",
   "metadata": {
    "id": "dBi-MfNgG9IB"
   },
   "source": [
    "## Домашняя работа #5.\n",
    "\n",
    "**Kaggle: [competition](https://www.kaggle.com/competitions/hse-hw-5), [invite link](https://www.youtube.com/watch?v=dQw4w9WgXcQ)**\n",
    "\n",
    "**Kaggle deadline: 06/08/2022 12:59 PM UTC**\n",
    "\n",
    "**Hard deadline: 09.06.2022 03:00:00 +0003 GMT**\n",
    "\n",
    "### Описание\n",
    "\n",
    "Вам предоставлен измененный датасет CIFAR10. В нём содержится 50+10 тысяч RGB изображений размера 32х32 следующих 10 классов: airplane, automobile, bird, cat, deer, dog, frog, horse, ship, truck.\n",
    "\n",
    "Задача: используя свёрточные нейронные сети, добиться максимальной точности классификации. \n",
    "\n",
    "### Данные\n",
    "\n",
    "В данном ноутбуке уже есть код для PyTorch, отвечающий за загрузку данных. Если будете использовать этот фреймворк, можно пропустить секцию. Если же хочется использовать другой фреймворк глубокого обучения, ниже дано краткое описание формата хранения данных.\n",
    "\n",
    "Каждый из файлов — сериализованный с помощью pickle c 4ой версией протолока python-словарик.\n",
    "\n",
    "Список файлов:\n",
    "\n",
    "- `meta` — метаданные датасета (например, названия классов)\n",
    "- `data_train` — данные обучения, 50к примеров, по 5к на один класс\n",
    "- `data_test` — данные теста, 10к примеров, по 1к на один класс, без ground-truth классов\n",
    "\n",
    "Словарики с данными имеют следующие поля:\n",
    "\n",
    "- `section` — имя части данных (обучение/тест)\n",
    "- `names` — хеш-идентификаторы объекта\n",
    "- `labels` — ground-truth классы, список из N чисел от 0 до 9\n",
    "- `images` — numpy массив размером `(N, 3*32*32)` с изображениями\n",
    "\n",
    "### Оценка\n",
    "\n",
    "Качество решения будет оцениваться по метрике \"точность\". Точность – это количество правильно классифицированных картинок к общему числу картинок в тестовом наборе. Публичный лидерборд рассчитывается по 30% тестовых данных, поэтому старайтесь не переобучаться под него.\n",
    "\n",
    "```\n",
    "accuracy = (correct classified) / (total # of examples)\n",
    "```\n",
    "\n",
    "В качестве решения вы должны прислать файл формата:\n",
    "\n",
    "```\n",
    "Id,Category\n",
    "0, 3\n",
    "1, 2\n",
    "2, 9\n",
    "3, 1\n",
    "...\n",
    "```\n",
    "\n",
    "где:\n",
    "\n",
    "- `Id` — порядковый номер объекта в тестовом датасете\n",
    "- `Category` — предсказанный класс объекта\n",
    "\n",
    "В данном ноутбуке уже есть код, подготавливающий файл решения.\n",
    "\n",
    "Итоговая оценка складывается из двух:\n",
    "- по 5 баллов за преодоление каждого из бенчмарков (от 0 до 15 баллов)\n",
    "- от 0 до 15 баллов за сам код решения\n",
    "\n",
    "### Эксперименты\n",
    "\n",
    "Так как в обучении нейросетевой модели есть очень много различных гиперпараметров, в данном домашнем задании нужно будет делать много различных экспериментов. И будет очень полезно, и для вас самих, и для нас, проверяющих, наличие текстового описания всех, или по крайней мере самых интересных / важных в выборе итоговой модели, экспериментов с результатами в финальном ноутбуке. Наличие и подробность описания экспериментов будут входить в итоговую оценку за домашнее задание. Дедлайн на Kaggle специально поставлен немного раньше, чтобы у вас было время спокойно дописать отчет об экспериментах."
   ]
  },
  {
   "cell_type": "markdown",
   "metadata": {
    "id": "Jm6VSsdbG9IK"
   },
   "source": [
    "## Решение"
   ]
  },
  {
   "cell_type": "code",
   "execution_count": 1,
   "metadata": {
    "id": "nWUgESjqG9IL"
   },
   "outputs": [],
   "source": [
    "import numpy as np\n",
    "import matplotlib.pyplot as plt\n",
    "from tqdm import trange\n",
    "from IPython.display import clear_output"
   ]
  },
  {
   "cell_type": "code",
   "execution_count": 2,
   "metadata": {
    "id": "wxvsuhDsG9IO"
   },
   "outputs": [],
   "source": [
    "import os\n",
    "import pickle\n",
    "from typing import Any, Callable, Optional, Tuple\n",
    "from PIL import Image"
   ]
  },
  {
   "cell_type": "code",
   "execution_count": 3,
   "metadata": {
    "id": "I67MDMgqG9IQ"
   },
   "outputs": [],
   "source": [
    "import torch\n",
    "from torch import nn\n",
    "from torch.utils.data import DataLoader, random_split\n",
    "from torchvision import transforms as T\n",
    "from torchvision.datasets.vision import VisionDataset"
   ]
  },
  {
   "cell_type": "markdown",
   "metadata": {
    "id": "WZHrDghiG9IR"
   },
   "source": [
    "Данные лежат в секции [Data](https://www.kaggle.com/c/csc-cv21-hw5/data) kaggle-соревнования. <br>\n",
    "Нужно скачать архив с данными и расспаковать его. <br>\n",
    "В переменной ниже надо указать путь до датасета. <br>"
   ]
  },
  {
   "cell_type": "code",
   "execution_count": 4,
   "metadata": {
    "id": "4NztdwC4G9IS"
   },
   "outputs": [],
   "source": [
    "import my_models\n",
    "dataset_root = \"data/\""
   ]
  },
  {
   "cell_type": "markdown",
   "metadata": {
    "id": "KKklLnOuG9IT"
   },
   "source": [
    "Код для загрузки измененного датасета CIFAR10. Аргументы инициализации:\n",
    "\n",
    "- `root` — строка, путь до директории с файлами датасета\n",
    "- `train` — флаг, загружать часть для обучения или теста\n",
    "- `transform` — преобразования изображения\n",
    "- `target_transform` — преобразования класса изображения"
   ]
  },
  {
   "cell_type": "code",
   "execution_count": 5,
   "metadata": {
    "id": "qRFxlpiCG9IT"
   },
   "outputs": [],
   "source": [
    "class CIFAR10(VisionDataset):\n",
    "\n",
    "    def __init__(self,\n",
    "                 root: str,\n",
    "                 train: bool = True,\n",
    "                 transform: Optional[Callable] = None,\n",
    "                 target_transform: Optional[Callable] = None,\n",
    "                 ) -> None:\n",
    "\n",
    "        super().__init__(root, transform=transform, target_transform=target_transform)\n",
    "        self.train = train\n",
    "\n",
    "        meta_path = os.path.join(self.root, 'meta')\n",
    "        with open(meta_path, \"rb\") as f:\n",
    "            content = pickle.load(f)\n",
    "            self.classes = content['label_names']\n",
    "            self.class_to_idx = {_class: i for i, _class in enumerate(self.classes)}\n",
    "\n",
    "        data_path = os.path.join(self.root, 'data_train' if train else 'data_test')\n",
    "        with open(data_path, \"rb\") as f:\n",
    "            content = pickle.load(f)\n",
    "            self.data = content['images'].reshape(-1, 3, 32, 32).transpose((0, 2, 3, 1))\n",
    "            self.targets = content.get('labels')\n",
    "\n",
    "    def __getitem__(self, index: int) -> Tuple[Any, Any]:\n",
    "        img = Image.fromarray(self.data[index])\n",
    "        target = self.targets[index] if self.targets else len(self.classes)\n",
    "        if self.transform is not None:\n",
    "            img = self.transform(img)\n",
    "        if self.target_transform is not None:\n",
    "            target = self.target_transform(target)\n",
    "        return img, target\n",
    "\n",
    "    def __len__(self) -> int:\n",
    "        return len(self.data)\n",
    "        \n",
    "    def extra_repr(self) -> str:\n",
    "        split = \"Train\" if self.train is True else \"Test\"\n",
    "        return f\"Split: {split}\""
   ]
  },
  {
   "cell_type": "markdown",
   "metadata": {
    "id": "lg_a30x0G9IW"
   },
   "source": [
    "### Загрузка датасета"
   ]
  },
  {
   "cell_type": "markdown",
   "metadata": {
    "id": "ix4gzjwiG9IW"
   },
   "source": [
    "Загружаем часть датасета для обучения."
   ]
  },
  {
   "cell_type": "code",
   "execution_count": 6,
   "metadata": {
    "id": "tP3muPkoG9IX"
   },
   "outputs": [],
   "source": [
    "data = CIFAR10(\n",
    "    root=dataset_root,\n",
    "    train=True,\n",
    "    transform=T.Compose([\n",
    "        T.RandomHorizontalFlip(),\n",
    "        T.ColorJitter(brightness=.2, hue=.1),\n",
    "        T.RandomRotation(degrees=5),\n",
    "        T.ToTensor(),\n",
    "        T.Normalize(mean=[0.485, 0.456, 0.406],\n",
    "                    std=[0.229, 0.224, 0.225]),\n",
    "    ])\n",
    ")"
   ]
  },
  {
   "cell_type": "markdown",
   "metadata": {
    "id": "X8lF96VKG9IY"
   },
   "source": [
    "Разбиваем случайным образом датасет на обучение и валидацию. <br>\n",
    "На первой части будем обучать модель классификации. <br>\n",
    "На второй части будем оценивать качество во время экспериментов. <br>"
   ]
  },
  {
   "cell_type": "code",
   "execution_count": 7,
   "metadata": {
    "id": "OIpJTW_cG9IZ"
   },
   "outputs": [],
   "source": [
    "train_data, val_data = torch.utils.data.random_split(\n",
    "    data, \n",
    "    [40000, 10000], \n",
    "    generator=torch.Generator().manual_seed(42),\n",
    ")"
   ]
  },
  {
   "cell_type": "markdown",
   "metadata": {
    "id": "jZ5iJsI5G9IZ"
   },
   "source": [
    "Инициализируем data loader-ы."
   ]
  },
  {
   "cell_type": "code",
   "execution_count": 8,
   "metadata": {
    "id": "kbOao5e0G9Ia"
   },
   "outputs": [],
   "source": [
    "batch_size = 256\n",
    "train_dataloader = DataLoader(train_data, batch_size=batch_size)\n",
    "val_dataloader = DataLoader(val_data, batch_size=batch_size)"
   ]
  },
  {
   "cell_type": "markdown",
   "metadata": {
    "id": "Dv2vksflG9Ia"
   },
   "source": [
    "Посмотрим, какой размерности батчи выдает data loader."
   ]
  },
  {
   "cell_type": "code",
   "execution_count": 9,
   "metadata": {
    "id": "XzFCXqL3G9Ib",
    "outputId": "ea5d15a0-9579-4774-fddb-58e182b7d743"
   },
   "outputs": [
    {
     "name": "stdout",
     "output_type": "stream",
     "text": [
      "Shape of X [N, C, H, W]:  torch.Size([256, 3, 32, 32])\n",
      "Shape of y:  torch.Size([256]) torch.int64\n"
     ]
    }
   ],
   "source": [
    "for X, y in train_dataloader:\n",
    "    print(\"Shape of X [N, C, H, W]: \", X.shape)\n",
    "    print(\"Shape of y: \", y.shape, y.dtype)\n",
    "    break"
   ]
  },
  {
   "cell_type": "markdown",
   "metadata": {
    "id": "hmKECcBTG9Ie"
   },
   "source": [
    "### Модель классификации"
   ]
  },
  {
   "cell_type": "markdown",
   "metadata": {
    "id": "80PZjHHjG9If"
   },
   "source": [
    "Определяем, на каком устройстве будем обучать модель."
   ]
  },
  {
   "cell_type": "code",
   "execution_count": 10,
   "metadata": {
    "id": "9SJwrIM4G9If",
    "outputId": "4f997206-10b6-456a-a62c-c87e52615b4e"
   },
   "outputs": [
    {
     "name": "stdout",
     "output_type": "stream",
     "text": [
      "Using cuda device\n"
     ]
    }
   ],
   "source": [
    "device = \"cuda\" if torch.cuda.is_available() else \"cpu\"\n",
    "print(\"Using {} device\".format(device))"
   ]
  },
  {
   "cell_type": "markdown",
   "metadata": {
    "id": "2HiQD7zZG9Ig"
   },
   "source": [
    "Задаем архитектуру модели классификации. <br>\n",
    "Тут большой простор для разных экспериментов. <br>"
   ]
  },
  {
   "cell_type": "code",
   "execution_count": 11,
   "metadata": {
    "id": "r8lGtmI9G9Ig"
   },
   "outputs": [],
   "source": [
    "model = my_models.MyVGG(pretrained=True, freeze_features=False, bn=True)"
   ]
  },
  {
   "cell_type": "markdown",
   "metadata": {
    "id": "qxMV3wsBG9Ih"
   },
   "source": [
    "Отправляем модель на выбранное устройство."
   ]
  },
  {
   "cell_type": "code",
   "execution_count": 12,
   "metadata": {
    "id": "YtFrQZR_G9Ih",
    "outputId": "887e9989-1e9b-4741-b11a-216424924595"
   },
   "outputs": [
    {
     "name": "stdout",
     "output_type": "stream",
     "text": [
      "MyVGG(\n",
      "  (features): Sequential(\n",
      "    (0): Conv2d(3, 64, kernel_size=(3, 3), stride=(1, 1), padding=(1, 1))\n",
      "    (1): BatchNorm2d(64, eps=1e-05, momentum=0.1, affine=True, track_running_stats=True)\n",
      "    (2): ReLU(inplace=True)\n",
      "    (3): Conv2d(64, 64, kernel_size=(3, 3), stride=(1, 1), padding=(1, 1))\n",
      "    (4): BatchNorm2d(64, eps=1e-05, momentum=0.1, affine=True, track_running_stats=True)\n",
      "    (5): ReLU(inplace=True)\n",
      "    (6): MaxPool2d(kernel_size=2, stride=2, padding=0, dilation=1, ceil_mode=False)\n",
      "    (7): Conv2d(64, 128, kernel_size=(3, 3), stride=(1, 1), padding=(1, 1))\n",
      "    (8): BatchNorm2d(128, eps=1e-05, momentum=0.1, affine=True, track_running_stats=True)\n",
      "    (9): ReLU(inplace=True)\n",
      "    (10): Conv2d(128, 128, kernel_size=(3, 3), stride=(1, 1), padding=(1, 1))\n",
      "    (11): BatchNorm2d(128, eps=1e-05, momentum=0.1, affine=True, track_running_stats=True)\n",
      "    (12): ReLU(inplace=True)\n",
      "    (13): MaxPool2d(kernel_size=2, stride=2, padding=0, dilation=1, ceil_mode=False)\n",
      "    (14): Conv2d(128, 256, kernel_size=(3, 3), stride=(1, 1), padding=(1, 1))\n",
      "    (15): BatchNorm2d(256, eps=1e-05, momentum=0.1, affine=True, track_running_stats=True)\n",
      "    (16): ReLU(inplace=True)\n",
      "    (17): Conv2d(256, 256, kernel_size=(3, 3), stride=(1, 1), padding=(1, 1))\n",
      "    (18): BatchNorm2d(256, eps=1e-05, momentum=0.1, affine=True, track_running_stats=True)\n",
      "    (19): ReLU(inplace=True)\n",
      "    (20): Conv2d(256, 256, kernel_size=(3, 3), stride=(1, 1), padding=(1, 1))\n",
      "    (21): BatchNorm2d(256, eps=1e-05, momentum=0.1, affine=True, track_running_stats=True)\n",
      "    (22): ReLU(inplace=True)\n",
      "    (23): MaxPool2d(kernel_size=2, stride=2, padding=0, dilation=1, ceil_mode=False)\n",
      "    (24): Conv2d(256, 512, kernel_size=(3, 3), stride=(1, 1), padding=(1, 1))\n",
      "    (25): BatchNorm2d(512, eps=1e-05, momentum=0.1, affine=True, track_running_stats=True)\n",
      "    (26): ReLU(inplace=True)\n",
      "    (27): Conv2d(512, 512, kernel_size=(3, 3), stride=(1, 1), padding=(1, 1))\n",
      "    (28): BatchNorm2d(512, eps=1e-05, momentum=0.1, affine=True, track_running_stats=True)\n",
      "    (29): ReLU(inplace=True)\n",
      "    (30): Conv2d(512, 512, kernel_size=(3, 3), stride=(1, 1), padding=(1, 1))\n",
      "    (31): BatchNorm2d(512, eps=1e-05, momentum=0.1, affine=True, track_running_stats=True)\n",
      "    (32): ReLU(inplace=True)\n",
      "    (33): MaxPool2d(kernel_size=2, stride=2, padding=0, dilation=1, ceil_mode=False)\n",
      "    (34): Conv2d(512, 512, kernel_size=(3, 3), stride=(1, 1), padding=(1, 1))\n",
      "    (35): BatchNorm2d(512, eps=1e-05, momentum=0.1, affine=True, track_running_stats=True)\n",
      "    (36): ReLU(inplace=True)\n",
      "    (37): Conv2d(512, 512, kernel_size=(3, 3), stride=(1, 1), padding=(1, 1))\n",
      "    (38): BatchNorm2d(512, eps=1e-05, momentum=0.1, affine=True, track_running_stats=True)\n",
      "    (39): ReLU(inplace=True)\n",
      "    (40): Conv2d(512, 512, kernel_size=(3, 3), stride=(1, 1), padding=(1, 1))\n",
      "    (41): BatchNorm2d(512, eps=1e-05, momentum=0.1, affine=True, track_running_stats=True)\n",
      "    (42): ReLU(inplace=True)\n",
      "    (43): MaxPool2d(kernel_size=2, stride=2, padding=0, dilation=1, ceil_mode=False)\n",
      "  )\n",
      "  (flatten): Flatten(start_dim=1, end_dim=-1)\n",
      "  (classifier): Sequential(\n",
      "    (0): Linear(in_features=512, out_features=512, bias=True)\n",
      "    (1): ReLU()\n",
      "    (2): Dropout(p=0.2, inplace=False)\n",
      "    (3): Linear(in_features=512, out_features=512, bias=True)\n",
      "    (4): ReLU()\n",
      "    (5): Dropout(p=0.2, inplace=False)\n",
      "    (6): Linear(in_features=512, out_features=10, bias=True)\n",
      "  )\n",
      ")\n"
     ]
    }
   ],
   "source": [
    "model = model.to(device)\n",
    "print(model)"
   ]
  },
  {
   "cell_type": "markdown",
   "metadata": {
    "id": "Y5wEN_6BG9Ih"
   },
   "source": [
    "### Обучение"
   ]
  },
  {
   "cell_type": "markdown",
   "metadata": {
    "id": "o-1WWgnxG9Ii"
   },
   "source": [
    "Задаем функцию потерь (цель оптимизации) и оптимизатор."
   ]
  },
  {
   "cell_type": "code",
   "execution_count": 13,
   "metadata": {
    "id": "yY7CXtMYG9Ii"
   },
   "outputs": [],
   "source": [
    "loss_fn = nn.CrossEntropyLoss()\n",
    "optimizer = torch.optim.Adam(model.parameters())"
   ]
  },
  {
   "cell_type": "markdown",
   "metadata": {
    "id": "pMNO54CZG9Ii"
   },
   "source": [
    "Код для визуализации процесса обучения.\n",
    "\n",
    "Каждые `interval` шагов оптимизации и в конце эпох мы записываем значения функции потерь и метрик в лог. <br>\n",
    "Затем вызовом функции `show_progress` обновляем график обучения. <br>"
   ]
  },
  {
   "cell_type": "code",
   "execution_count": 14,
   "metadata": {
    "id": "rFWRUYv7G9Ik"
   },
   "outputs": [],
   "source": [
    "# Training logs\n",
    "interval = 100\n",
    "train_ts, train_loss = [], []\n",
    "val_ts, val_loss, val_acc = [], [], []"
   ]
  },
  {
   "cell_type": "code",
   "execution_count": 15,
   "metadata": {
    "id": "UBMWEFpBG9Ik"
   },
   "outputs": [],
   "source": [
    "def show_progress(t):\n",
    "    clear_output(wait=True)\n",
    "    fig, (ax1, ax2) = plt.subplots(1, 2, constrained_layout=True, figsize=(20, 5))\n",
    "    fig.suptitle(f'Epoch {t:3.3f}', fontsize=16)\n",
    "    ax1.set_title('loss')\n",
    "    ax1.set_xlabel('time (epochs)')\n",
    "    ax1.set_ylabel('loss')\n",
    "    ax1.plot(train_ts, train_loss, c='darkblue', lw=3)\n",
    "    ax1.plot(val_ts, val_loss, c='green', marker='o', lw=5)\n",
    "    ax2.set_title('accuracy')\n",
    "    ax2.set_xlabel('time (epochs)')\n",
    "    ax2.plot(val_ts, val_acc, c='green', marker='o', lw=5)\n",
    "    plt.show() "
   ]
  },
  {
   "cell_type": "code",
   "execution_count": 16,
   "metadata": {
    "id": "J73Mczw8G9Il"
   },
   "outputs": [],
   "source": [
    "def train(epoch, dataloader, model, loss_fn, optimizer):\n",
    "    model.train()\n",
    "    num_batches = len(dataloader)\n",
    "    for batch, (X, y) in enumerate(dataloader):\n",
    "        # Send data to training device\n",
    "        X, y = X.to(device), y.to(device)\n",
    "        # Compute prediction error\n",
    "        pred = model(X)\n",
    "        loss = loss_fn(pred, y)\n",
    "        # Backpropagation\n",
    "        optimizer.zero_grad()\n",
    "        loss.backward()\n",
    "        optimizer.step()\n",
    "        # Progress output\n",
    "        if batch % interval == 0:\n",
    "            t = epoch + (batch + 1)/num_batches\n",
    "            train_ts.append(t)\n",
    "            train_loss.append(loss.item())\n",
    "            show_progress(t)"
   ]
  },
  {
   "cell_type": "code",
   "execution_count": 17,
   "metadata": {
    "id": "q0JV_05_G9Il"
   },
   "outputs": [],
   "source": [
    "def test(epoch, dataloader, model, loss_fn):\n",
    "    model.eval()\n",
    "    num_batches = len(dataloader)\n",
    "    size = len(dataloader.dataset)\n",
    "    test_loss, correct = 0, 0\n",
    "    with torch.no_grad():\n",
    "        for X, y in dataloader:\n",
    "            X, y = X.to(device), y.to(device)\n",
    "            pred = model(X)\n",
    "            test_loss += loss_fn(pred, y).item()\n",
    "            correct += (pred.argmax(1) == y).type(torch.float).sum().item()\n",
    "    test_loss /= num_batches\n",
    "    correct /= size\n",
    "    val_ts.append(epoch+1)\n",
    "    val_loss.append(test_loss)\n",
    "    val_acc.append(correct)\n",
    "    show_progress(epoch+1)"
   ]
  },
  {
   "cell_type": "markdown",
   "metadata": {
    "id": "1PTeo8aKG9Il"
   },
   "source": [
    "Цикл обучения."
   ]
  },
  {
   "cell_type": "code",
   "execution_count": 18,
   "metadata": {
    "id": "CAPMHsGhG9Im",
    "outputId": "a0a75bf6-2b37-4f70-dc68-de6ea1944e23"
   },
   "outputs": [
    {
     "data": {
      "image/png": "[encoded data removed]",
      "text/plain": [
       "<Figure size 1440x360 with 2 Axes>"
      ]
     },
     "metadata": {
      "needs_background": "light"
     },
     "output_type": "display_data"
    },
    {
     "name": "stderr",
     "output_type": "stream",
     "text": [
      "100%|██████████| 50/50 [15:48<00:00, 18.97s/it]\n"
     ]
    }
   ],
   "source": [
    "epochs = 50\n",
    "for t in trange(epochs):\n",
    "    train(t, train_dataloader, model, loss_fn, optimizer)\n",
    "    test(t, val_dataloader, model, loss_fn)"
   ]
  },
  {
   "cell_type": "markdown",
   "metadata": {
    "id": "iZ-Tyj3-G9Im"
   },
   "source": [
    "### Отправка решения"
   ]
  },
  {
   "cell_type": "markdown",
   "metadata": {
    "id": "_PtkIkUsG9Im"
   },
   "source": [
    "Загружаем часть датасета для теста."
   ]
  },
  {
   "cell_type": "code",
   "execution_count": 23,
   "metadata": {
    "id": "ZrogskJDG9Im"
   },
   "outputs": [],
   "source": [
    "test_data = CIFAR10(\n",
    "    root=dataset_root,\n",
    "    train=False,\n",
    "    transform=T.Compose([\n",
    "        T.ToTensor(),\n",
    "        T.Normalize(mean=[0.485, 0.456, 0.406],\n",
    "                    std=[0.229, 0.224, 0.225]),\n",
    "    ])\n",
    ")"
   ]
  },
  {
   "cell_type": "code",
   "execution_count": 24,
   "metadata": {
    "id": "XTREMaKBG9Io"
   },
   "outputs": [],
   "source": [
    "test_dataloader = DataLoader(\n",
    "    test_data, \n",
    "    batch_size=batch_size,\n",
    ")"
   ]
  },
  {
   "cell_type": "markdown",
   "metadata": {
    "id": "i63WwoOdG9Io"
   },
   "source": [
    "Делаем предсказания итоговой моделью."
   ]
  },
  {
   "cell_type": "code",
   "execution_count": 25,
   "metadata": {
    "id": "bYVwjcUYG9Io"
   },
   "outputs": [],
   "source": [
    "predictions = []\n",
    "\n",
    "model.eval()\n",
    "with torch.no_grad():\n",
    "    for X, _ in test_dataloader:\n",
    "        X = X.to(device)\n",
    "        pred = model(X).argmax(1).cpu().numpy()\n",
    "        predictions.extend(list(pred))"
   ]
  },
  {
   "cell_type": "markdown",
   "metadata": {
    "id": "uViY1xXtG9Ip"
   },
   "source": [
    "Формируем файл решения для отправки в kaggle."
   ]
  },
  {
   "cell_type": "code",
   "execution_count": 26,
   "metadata": {
    "id": "pO4QZrCgG9Ip"
   },
   "outputs": [],
   "source": [
    "def write_solution(filename, labels):\n",
    "    with open(filename, 'w') as solution:\n",
    "        print('Id,Category', file=solution)\n",
    "        for i, label in enumerate(labels):\n",
    "            print(f'{i},{label}', file=solution)\n",
    "            \n",
    "write_solution('solution.csv', predictions)"
   ]
  },
  {
   "cell_type": "code",
   "execution_count": null,
   "metadata": {},
   "outputs": [],
   "source": []
  }
 ],
 "metadata": {
  "colab": {
   "collapsed_sections": [],
   "name": "homework5.ipynb",
   "provenance": []
  },
  "interpreter": {
   "hash": "49448eeb8252ad14269e9870f41be38726e4e73e71663eea00cd1e0ba3be12df"
  },
  "kernelspec": {
   "display_name": "Python 3.9.7 64-bit ('code': venv)",
   "language": "python",
   "name": "python3"
  },
  "language_info": {
   "codemirror_mode": {
    "name": "ipython",
    "version": 3
   },
   "file_extension": ".py",
   "mimetype": "text/x-python",
   "name": "python",
   "nbconvert_exporter": "python",
   "pygments_lexer": "ipython3",
   "version": "3.10.4"
  }
 },
 "nbformat": 4,
 "nbformat_minor": 4
}
