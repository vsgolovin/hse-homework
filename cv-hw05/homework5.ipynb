{
 "cells": [
  {
   "cell_type": "markdown",
   "metadata": {
    "id": "dBi-MfNgG9IB"
   },
   "source": [
    "## Домашняя работа #5.\n",
    "\n",
    "**Kaggle: [competition](https://www.kaggle.com/competitions/hse-hw-5), [invite link](https://www.youtube.com/watch?v=dQw4w9WgXcQ)**\n",
    "\n",
    "**Kaggle deadline: 06/08/2022 12:59 PM UTC**\n",
    "\n",
    "**Hard deadline: 09.06.2022 03:00:00 +0003 GMT**\n",
    "\n",
    "### Описание\n",
    "\n",
    "Вам предоставлен измененный датасет CIFAR10. В нём содержится 50+10 тысяч RGB изображений размера 32х32 следующих 10 классов: airplane, automobile, bird, cat, deer, dog, frog, horse, ship, truck.\n",
    "\n",
    "Задача: используя свёрточные нейронные сети, добиться максимальной точности классификации. \n",
    "\n",
    "### Данные\n",
    "\n",
    "В данном ноутбуке уже есть код для PyTorch, отвечающий за загрузку данных. Если будете использовать этот фреймворк, можно пропустить секцию. Если же хочется использовать другой фреймворк глубокого обучения, ниже дано краткое описание формата хранения данных.\n",
    "\n",
    "Каждый из файлов — сериализованный с помощью pickle c 4ой версией протолока python-словарик.\n",
    "\n",
    "Список файлов:\n",
    "\n",
    "- `meta` — метаданные датасета (например, названия классов)\n",
    "- `data_train` — данные обучения, 50к примеров, по 5к на один класс\n",
    "- `data_test` — данные теста, 10к примеров, по 1к на один класс, без ground-truth классов\n",
    "\n",
    "Словарики с данными имеют следующие поля:\n",
    "\n",
    "- `section` — имя части данных (обучение/тест)\n",
    "- `names` — хеш-идентификаторы объекта\n",
    "- `labels` — ground-truth классы, список из N чисел от 0 до 9\n",
    "- `images` — numpy массив размером `(N, 3*32*32)` с изображениями\n",
    "\n",
    "### Оценка\n",
    "\n",
    "Качество решения будет оцениваться по метрике \"точность\". Точность – это количество правильно классифицированных картинок к общему числу картинок в тестовом наборе. Публичный лидерборд рассчитывается по 30% тестовых данных, поэтому старайтесь не переобучаться под него.\n",
    "\n",
    "```\n",
    "accuracy = (correct classified) / (total # of examples)\n",
    "```\n",
    "\n",
    "В качестве решения вы должны прислать файл формата:\n",
    "\n",
    "```\n",
    "Id,Category\n",
    "0, 3\n",
    "1, 2\n",
    "2, 9\n",
    "3, 1\n",
    "...\n",
    "```\n",
    "\n",
    "где:\n",
    "\n",
    "- `Id` — порядковый номер объекта в тестовом датасете\n",
    "- `Category` — предсказанный класс объекта\n",
    "\n",
    "В данном ноутбуке уже есть код, подготавливающий файл решения.\n",
    "\n",
    "Итоговая оценка складывается из двух:\n",
    "- по 5 баллов за преодоление каждого из бенчмарков (от 0 до 15 баллов)\n",
    "- от 0 до 15 баллов за сам код решения\n",
    "\n",
    "### Эксперименты\n",
    "\n",
    "Так как в обучении нейросетевой модели есть очень много различных гиперпараметров, в данном домашнем задании нужно будет делать много различных экспериментов. И будет очень полезно, и для вас самих, и для нас, проверяющих, наличие текстового описания всех, или по крайней мере самых интересных / важных в выборе итоговой модели, экспериментов с результатами в финальном ноутбуке. Наличие и подробность описания экспериментов будут входить в итоговую оценку за домашнее задание. Дедлайн на Kaggle специально поставлен немного раньше, чтобы у вас было время спокойно дописать отчет об экспериментах."
   ]
  },
  {
   "cell_type": "markdown",
   "metadata": {
    "id": "Jm6VSsdbG9IK"
   },
   "source": [
    "## Решение"
   ]
  },
  {
   "cell_type": "code",
   "execution_count": 1,
   "metadata": {
    "id": "nWUgESjqG9IL"
   },
   "outputs": [],
   "source": [
    "import numpy as np\n",
    "import matplotlib.pyplot as plt\n",
    "from tqdm import trange\n",
    "from IPython.display import clear_output"
   ]
  },
  {
   "cell_type": "code",
   "execution_count": 2,
   "metadata": {
    "id": "wxvsuhDsG9IO"
   },
   "outputs": [],
   "source": [
    "import os\n",
    "import pickle\n",
    "from typing import Any, Callable, Optional, Tuple\n",
    "from PIL import Image"
   ]
  },
  {
   "cell_type": "code",
   "execution_count": 3,
   "metadata": {
    "id": "I67MDMgqG9IQ"
   },
   "outputs": [],
   "source": [
    "import torch\n",
    "from torch import nn\n",
    "from torch.utils.data import DataLoader, random_split\n",
    "from torchvision import transforms as T\n",
    "from torchvision.datasets.vision import VisionDataset"
   ]
  },
  {
   "cell_type": "markdown",
   "metadata": {
    "id": "WZHrDghiG9IR"
   },
   "source": [
    "Данные лежат в секции [Data](https://www.kaggle.com/c/csc-cv21-hw5/data) kaggle-соревнования. <br>\n",
    "Нужно скачать архив с данными и расспаковать его. <br>\n",
    "В переменной ниже надо указать путь до датасета. <br>"
   ]
  },
  {
   "cell_type": "code",
   "execution_count": 4,
   "metadata": {
    "id": "4NztdwC4G9IS"
   },
   "outputs": [],
   "source": [
    "dataset_root = \"data/\""
   ]
  },
  {
   "cell_type": "markdown",
   "metadata": {
    "id": "KKklLnOuG9IT"
   },
   "source": [
    "Код для загрузки измененного датасета CIFAR10. Аргументы инициализации:\n",
    "\n",
    "- `root` — строка, путь до директории с файлами датасета\n",
    "- `train` — флаг, загружать часть для обучения или теста\n",
    "- `transform` — преобразования изображения\n",
    "- `target_transform` — преобразования класса изображения"
   ]
  },
  {
   "cell_type": "code",
   "execution_count": 5,
   "metadata": {
    "id": "qRFxlpiCG9IT"
   },
   "outputs": [],
   "source": [
    "class CIFAR10(VisionDataset):\n",
    "\n",
    "    def __init__(self,\n",
    "                 root: str,\n",
    "                 train: bool = True,\n",
    "                 transform: Optional[Callable] = None,\n",
    "                 target_transform: Optional[Callable] = None,\n",
    "                 ) -> None:\n",
    "\n",
    "        super().__init__(root, transform=transform, target_transform=target_transform)\n",
    "        self.train = train\n",
    "\n",
    "        meta_path = os.path.join(self.root, 'meta')\n",
    "        with open(meta_path, \"rb\") as f:\n",
    "            content = pickle.load(f)\n",
    "            self.classes = content['label_names']\n",
    "            self.class_to_idx = {_class: i for i, _class in enumerate(self.classes)}\n",
    "\n",
    "        data_path = os.path.join(self.root, 'data_train' if train else 'data_test')\n",
    "        with open(data_path, \"rb\") as f:\n",
    "            content = pickle.load(f)\n",
    "            self.data = content['images'].reshape(-1, 3, 32, 32).transpose((0, 2, 3, 1))\n",
    "            self.targets = content.get('labels')\n",
    "\n",
    "    def __getitem__(self, index: int) -> Tuple[Any, Any]:\n",
    "        img = Image.fromarray(self.data[index])\n",
    "        target = self.targets[index] if self.targets else len(self.classes)\n",
    "        if self.transform is not None:\n",
    "            img = self.transform(img)\n",
    "        if self.target_transform is not None:\n",
    "            target = self.target_transform(target)\n",
    "        return img, target\n",
    "\n",
    "    def __len__(self) -> int:\n",
    "        return len(self.data)\n",
    "        \n",
    "    def extra_repr(self) -> str:\n",
    "        split = \"Train\" if self.train is True else \"Test\"\n",
    "        return f\"Split: {split}\""
   ]
  },
  {
   "cell_type": "markdown",
   "metadata": {
    "id": "lg_a30x0G9IW"
   },
   "source": [
    "### Загрузка датасета"
   ]
  },
  {
   "cell_type": "markdown",
   "metadata": {
    "id": "ix4gzjwiG9IW"
   },
   "source": [
    "Загружаем часть датасета для обучения."
   ]
  },
  {
   "cell_type": "code",
   "execution_count": 6,
   "metadata": {
    "id": "tP3muPkoG9IX"
   },
   "outputs": [],
   "source": [
    "data = CIFAR10(\n",
    "    root=dataset_root,\n",
    "    train=True,\n",
    "    transform=T.Compose([\n",
    "        T.RandomHorizontalFlip(),\n",
    "        T.RandomCrop(32, padding=4),\n",
    "        T.RandomAdjustSharpness(2.0),\n",
    "        T.ColorJitter(saturation=0.2),\n",
    "        T.RandomAutocontrast(0.5),\n",
    "        T.ToTensor(),\n",
    "        T.Normalize(mean=[0.485, 0.456, 0.406],\n",
    "                    std=[0.229, 0.224, 0.225]),\n",
    "    ])\n",
    ")"
   ]
  },
  {
   "cell_type": "markdown",
   "metadata": {
    "tags": []
   },
   "source": [
    "Я поэкспериментировал с разным набором преобразований из `torchvision.transfroms`, результаты приведены ниже.\n",
    "\n",
    "Параметры эксперимента:\n",
    "* features - VGG11 (pretrained)\n",
    "* classifier - \\[512x512 FC + ReLU + Dropout(0.2)\\] $\\times$ 2 -> 512x10 FC\n",
    "* batch size 512, 50 epochs\n",
    "* Adam\n",
    "* ToTensor + Normalize\n",
    "\n",
    "| Additional transforms | Accuracy |\n",
    "|-----------------------|----------|\n",
    "|None|0.84|\n",
    "|RandomHorizontalFlip|0.864|\n",
    "|RandomHorizontalFlip + RandomAdjustSharpness(2.0)|0.867|\n",
    "|RandomHorizontalFlip + RandomAdjustSharpness(0.0)|0.853|\n",
    "|RandomHorizontalFlip + ColorJitter(brightness=.2, hue=.1)|0.859|\n",
    "|RandomHorizontalFlip + T.RandomAutocontrast(0.25)|0.865|\n",
    "|RandomHorizontalFlip + T.RandomAutocontrast(0.5)|0.867|\n",
    "|RandomHorizontalFlip + T.RandomGrayscale|0.865|\n",
    "|RandomHorizontalFlip + T.RandomEqualize|0.852|\n",
    "|RandomHorizontalFlip + T.RandomRotation(degrees=10)|0.857|\n",
    "|RandomHorizontalFlip + T.ColorJitter(saturation=0.2)|0.867|\n",
    "|RandomHorizontalFlip + RandomAdjustSharpness(2.0) + ColorJitter(saturation=0.2) + RandomAutocontrast(0.5)|0.866|\n",
    "|RandomHorizontalFlip + RandomCrop(32, padding=4)|0.872|\n",
    "|RandomHorizontalFlip + RandomCrop(32, padding=4) + RandomAdjustSharpness(2.0) + ColorJitter(saturation=0.2) + RandomAutocontrast(0.5)|0.876|\n",
    "\n",
    "Также на первом этапе разработки проверялось преобразование `RandomRotaton`. При любых значениях максимального угла поворота результаты ухудшались. Наверное, это связано с тем что поворот и последующая интерполяция сильно искажают маленькие изображения.\n",
    "\n",
    "По результатам видно, что к более-менее заметному улучшению результатов приводят только `RandomHorizontalFlip` и `RandomCrop`."
   ]
  },
  {
   "cell_type": "markdown",
   "metadata": {
    "id": "X8lF96VKG9IY"
   },
   "source": [
    "Разбиваем случайным образом датасет на обучение и валидацию. <br>\n",
    "На первой части будем обучать модель классификации. <br>\n",
    "На второй части будем оценивать качество во время экспериментов. <br>"
   ]
  },
  {
   "cell_type": "code",
   "execution_count": 7,
   "metadata": {
    "id": "OIpJTW_cG9IZ"
   },
   "outputs": [],
   "source": [
    "train_data, val_data = torch.utils.data.random_split(\n",
    "    data, \n",
    "    [40000, 10000], \n",
    "    generator=torch.Generator().manual_seed(42),\n",
    ")"
   ]
  },
  {
   "cell_type": "markdown",
   "metadata": {
    "id": "jZ5iJsI5G9IZ"
   },
   "source": [
    "Инициализируем data loader-ы."
   ]
  },
  {
   "cell_type": "code",
   "execution_count": 8,
   "metadata": {
    "id": "kbOao5e0G9Ia"
   },
   "outputs": [],
   "source": [
    "batch_size = 128\n",
    "train_dataloader = DataLoader(train_data, batch_size=batch_size)\n",
    "val_dataloader = DataLoader(val_data, batch_size=batch_size)"
   ]
  },
  {
   "cell_type": "markdown",
   "metadata": {
    "id": "Dv2vksflG9Ia"
   },
   "source": [
    "Посмотрим, какой размерности батчи выдает data loader."
   ]
  },
  {
   "cell_type": "code",
   "execution_count": 9,
   "metadata": {
    "id": "XzFCXqL3G9Ib",
    "outputId": "ea5d15a0-9579-4774-fddb-58e182b7d743"
   },
   "outputs": [
    {
     "name": "stdout",
     "output_type": "stream",
     "text": [
      "Shape of X [N, C, H, W]:  torch.Size([128, 3, 32, 32])\n",
      "Shape of y:  torch.Size([128]) torch.int64\n"
     ]
    }
   ],
   "source": [
    "for X, y in train_dataloader:\n",
    "    print(\"Shape of X [N, C, H, W]: \", X.shape)\n",
    "    print(\"Shape of y: \", y.shape, y.dtype)\n",
    "    break"
   ]
  },
  {
   "cell_type": "markdown",
   "metadata": {
    "id": "hmKECcBTG9Ie"
   },
   "source": [
    "### Модель классификации"
   ]
  },
  {
   "cell_type": "markdown",
   "metadata": {
    "id": "80PZjHHjG9If"
   },
   "source": [
    "Определяем, на каком устройстве будем обучать модель."
   ]
  },
  {
   "cell_type": "code",
   "execution_count": 10,
   "metadata": {
    "id": "9SJwrIM4G9If",
    "outputId": "4f997206-10b6-456a-a62c-c87e52615b4e"
   },
   "outputs": [
    {
     "name": "stdout",
     "output_type": "stream",
     "text": [
      "Using cuda device\n"
     ]
    }
   ],
   "source": [
    "device = \"cuda\" if torch.cuda.is_available() else \"cpu\"\n",
    "print(\"Using {} device\".format(device))"
   ]
  },
  {
   "cell_type": "markdown",
   "metadata": {
    "id": "2HiQD7zZG9Ig"
   },
   "source": [
    "Задаем архитектуру модели классификации. <br>\n",
    "Тут большой простор для разных экспериментов. <br>"
   ]
  },
  {
   "cell_type": "code",
   "execution_count": 11,
   "metadata": {
    "id": "r8lGtmI9G9Ig"
   },
   "outputs": [],
   "source": [
    "from torchvision import models\n",
    "\n",
    "class VGG(nn.Module):\n",
    "    def __init__(self, pretrained: bool = True, freeze_features: bool = False,\n",
    "                 bn: bool = False):\n",
    "        super().__init__()\n",
    "        if not bn:\n",
    "            self.features = models.vgg16(pretrained=pretrained).features\n",
    "        else:\n",
    "            self.features = models.vgg16_bn(pretrained=pretrained).features\n",
    "        if freeze_features:\n",
    "            for param in self.features.parameters():\n",
    "                param.requires_grad = False\n",
    "        self.flatten = nn.Flatten()\n",
    "        self.classifier = nn.Sequential(\n",
    "            nn.Linear(512, 512),\n",
    "            nn.ReLU(),\n",
    "            # nn.Dropout(p=0.2, inplace=False),\n",
    "            # nn.Linear(512, 512),\n",
    "            # nn.ReLU(),\n",
    "            # nn.Dropout(p=0.2, inplace=False),\n",
    "            nn.Linear(512, 10)\n",
    "        )\n",
    "\n",
    "    def forward(self, X: torch.tensor) -> torch.tensor:\n",
    "        X = self.features(X)\n",
    "        X = self.flatten(X)\n",
    "        return self.classifier(X)\n",
    "\n",
    "    def unfreeze(self):\n",
    "        for param in self.features.parameters():\n",
    "            param.requires_grad = True\n",
    "\n",
    "\n",
    "# model = VGG(pretrained=True, freeze_features=False, bn=True)"
   ]
  },
  {
   "cell_type": "markdown",
   "metadata": {},
   "source": [
    "С самого начала я работал с готовыми предобученными моделями из `torchvision`, заменяя в них только конечную часть -- линейные слои, преобразующие набор признаков в предсказания классов. При этом я изначально фиксировал веса предобученной сверточной \"головы\", но такой подход не позволял получить высокую точность. Поэтому я перешёл к fine-tuning'y.\n",
    "\n",
    "Я использовал `VGG`, потому что с самого начала эта модель показывала хорошие результаты, а её главная особенность -- использование исключительно свёрток $3\\times3$ -- показалась мне очень уместной при работе с $32\\times32$ изображениями. Я также попробовал обучить `ResNet`, но тут и точность оказывалась ниже, и обучение продолжалось дольше. Это неудивительно, т.к. стандартная архитектура `ResNet`, доступная в `torchvision`, предназначена для работы с изображениями $224\\times224$. В самой статье, посвященной этой архитектуре, авторы описывают более компактную версию, которую они использовали для обучения на CIFAR. Я попробовал реализовать эту архитектуру (см. ячейку ниже), но в итоге у меня не получилось воспроизвести приведённые в работе результаты, а максимальную точность я получил с помощью предобученной `VGG`.\n",
    "\n",
    "Ниже приведена таблица с результатами, которые я получил в описанном в предудущем разделе режиме. Везде использовались предобученные веса, т.е. выполнялся fine tuning.\n",
    "\n",
    "|Model|Accuracy|\n",
    "|-----|--------|\n",
    "|vgg11|0.876|\n",
    "|vgg11_bn|0.886|\n",
    "|vgg16_bn|0.905|\n",
    "|vgg19_bn|0.897|\n",
    "\n",
    "Далее мне удалось ещё немного улучшить эти результаты. Также в итоговой версии я уменьшил число слоёв в классификаторе и убрал `Dropout`."
   ]
  },
  {
   "cell_type": "code",
   "execution_count": 12,
   "metadata": {},
   "outputs": [],
   "source": [
    "class Conv3x3(nn.Module):\n",
    "    def __init__(self, in_channels: int, out_channels: int, stride: int = 1,\n",
    "                 activation: bool = True):\n",
    "        super().__init__()\n",
    "        self.conv = nn.Conv2d(in_channels, out_channels, kernel_size=(3, 3),\n",
    "                              stride=stride, padding=1)\n",
    "        out_module = [nn.BatchNorm2d(out_channels)]\n",
    "        if activation:\n",
    "            out_module.append(nn.ReLU())\n",
    "        self.out_module = nn.Sequential(*out_module)\n",
    "\n",
    "    def forward(self, x: torch.Tensor) -> torch.Tensor:\n",
    "        x = self.conv(x)\n",
    "        return self.out_module(x)\n",
    "\n",
    "\n",
    "class ResidualBlock(nn.Module):\n",
    "    def __init__(self, in_channels: int, out_channels: int, stride: int = 1):\n",
    "        super().__init__()\n",
    "        self.conv1 = Conv3x3(in_channels, out_channels, stride, activation=True)\n",
    "        self.conv2 = Conv3x3(out_channels, out_channels, 1, activation=False)\n",
    "        self.relu = nn.ReLU()\n",
    "        self.in_channels = in_channels\n",
    "        self.out_channels = out_channels\n",
    "        self.stride = stride\n",
    "        if in_channels != out_channels or stride != 1:\n",
    "            self.conv1x1 = nn.Conv2d(in_channels, out_channels,\n",
    "                                     kernel_size=1, padding=0, stride=stride)\n",
    "        else:\n",
    "            self.conv1x1 = None\n",
    "\n",
    "    def forward(self, x: torch.Tensor) -> torch.Tensor:\n",
    "        out = self.conv1(x)\n",
    "        out = self.conv2(out)\n",
    "        if self.conv1x1:\n",
    "            x = self.conv1x1(x)\n",
    "        return self.relu(out + x)\n",
    "\n",
    "\n",
    "class ResNet(nn.Module):\n",
    "    def __init__(self, n: int = 3):\n",
    "        super().__init__()\n",
    "        self.conv1 = Conv3x3(3, 16, stride=1, activation=True)\n",
    "        self.conv2 = self._make_conv_stack(16, 16, 2*n, False)\n",
    "        self.conv3 = self._make_conv_stack(16, 32, 2*n, True)\n",
    "        self.conv4 = self._make_conv_stack(32, 64, 2*n, True)\n",
    "        self.classifier = nn.Sequential(\n",
    "            nn.AdaptiveAvgPool2d(output_size=(1, 1)),\n",
    "            nn.Flatten(),\n",
    "            nn.Linear(64, 10)\n",
    "        )\n",
    "        for m in self.modules():\n",
    "            if isinstance(m, nn.Conv2d) and m.kernel_size == (3, 3):\n",
    "                nn.init.kaiming_normal_(m.weight, mode='fan_out',\n",
    "                                        nonlinearity='relu')\n",
    "            elif isinstance(m, nn.BatchNorm2d):\n",
    "                nn.init.constant_(m.weight, 1)\n",
    "                nn.init.constant_(m.bias, 0)\n",
    "\n",
    "    def forward(self, x: torch.Tensor) -> torch.Tensor:\n",
    "        x = self.conv1(x)\n",
    "        x = self.conv2(x)\n",
    "        x = self.conv3(x)\n",
    "        x = self.conv4(x)\n",
    "        return self.classifier(x)\n",
    "\n",
    "    @staticmethod\n",
    "    def _make_conv_stack(in_channels: int, out_channels: int, num_blocks: int,\n",
    "                         downsample: bool = True) -> nn.Module:\n",
    "        conv1 = ResidualBlock(\n",
    "            in_channels=in_channels,\n",
    "            out_channels=out_channels,\n",
    "            stride=2 if downsample else 1\n",
    "        )\n",
    "        stack = [conv1] + [ResidualBlock(out_channels, out_channels, 1)\n",
    "                           for _ in range(num_blocks - 1)]\n",
    "        return nn.Sequential(*stack)\n",
    "\n",
    "\n",
    "model = ResNet(n=5)  # number of layers = 6*n + 2"
   ]
  },
  {
   "cell_type": "markdown",
   "metadata": {
    "id": "qxMV3wsBG9Ih"
   },
   "source": [
    "Отправляем модель на выбранное устройство."
   ]
  },
  {
   "cell_type": "code",
   "execution_count": 13,
   "metadata": {
    "id": "YtFrQZR_G9Ih",
    "outputId": "887e9989-1e9b-4741-b11a-216424924595",
    "tags": []
   },
   "outputs": [
    {
     "name": "stdout",
     "output_type": "stream",
     "text": [
      "ResNet(\n",
      "  (conv1): Conv3x3(\n",
      "    (conv): Conv2d(3, 16, kernel_size=(3, 3), stride=(1, 1), padding=(1, 1))\n",
      "    (out_module): Sequential(\n",
      "      (0): BatchNorm2d(16, eps=1e-05, momentum=0.1, affine=True, track_running_stats=True)\n",
      "      (1): ReLU()\n",
      "    )\n",
      "  )\n",
      "  (conv2): Sequential(\n",
      "    (0): ResidualBlock(\n",
      "      (conv1): Conv3x3(\n",
      "        (conv): Conv2d(16, 16, kernel_size=(3, 3), stride=(1, 1), padding=(1, 1))\n",
      "        (out_module): Sequential(\n",
      "          (0): BatchNorm2d(16, eps=1e-05, momentum=0.1, affine=True, track_running_stats=True)\n",
      "          (1): ReLU()\n",
      "        )\n",
      "      )\n",
      "      (conv2): Conv3x3(\n",
      "        (conv): Conv2d(16, 16, kernel_size=(3, 3), stride=(1, 1), padding=(1, 1))\n",
      "        (out_module): Sequential(\n",
      "          (0): BatchNorm2d(16, eps=1e-05, momentum=0.1, affine=True, track_running_stats=True)\n",
      "        )\n",
      "      )\n",
      "      (relu): ReLU()\n",
      "    )\n",
      "    (1): ResidualBlock(\n",
      "      (conv1): Conv3x3(\n",
      "        (conv): Conv2d(16, 16, kernel_size=(3, 3), stride=(1, 1), padding=(1, 1))\n",
      "        (out_module): Sequential(\n",
      "          (0): BatchNorm2d(16, eps=1e-05, momentum=0.1, affine=True, track_running_stats=True)\n",
      "          (1): ReLU()\n",
      "        )\n",
      "      )\n",
      "      (conv2): Conv3x3(\n",
      "        (conv): Conv2d(16, 16, kernel_size=(3, 3), stride=(1, 1), padding=(1, 1))\n",
      "        (out_module): Sequential(\n",
      "          (0): BatchNorm2d(16, eps=1e-05, momentum=0.1, affine=True, track_running_stats=True)\n",
      "        )\n",
      "      )\n",
      "      (relu): ReLU()\n",
      "    )\n",
      "    (2): ResidualBlock(\n",
      "      (conv1): Conv3x3(\n",
      "        (conv): Conv2d(16, 16, kernel_size=(3, 3), stride=(1, 1), padding=(1, 1))\n",
      "        (out_module): Sequential(\n",
      "          (0): BatchNorm2d(16, eps=1e-05, momentum=0.1, affine=True, track_running_stats=True)\n",
      "          (1): ReLU()\n",
      "        )\n",
      "      )\n",
      "      (conv2): Conv3x3(\n",
      "        (conv): Conv2d(16, 16, kernel_size=(3, 3), stride=(1, 1), padding=(1, 1))\n",
      "        (out_module): Sequential(\n",
      "          (0): BatchNorm2d(16, eps=1e-05, momentum=0.1, affine=True, track_running_stats=True)\n",
      "        )\n",
      "      )\n",
      "      (relu): ReLU()\n",
      "    )\n",
      "    (3): ResidualBlock(\n",
      "      (conv1): Conv3x3(\n",
      "        (conv): Conv2d(16, 16, kernel_size=(3, 3), stride=(1, 1), padding=(1, 1))\n",
      "        (out_module): Sequential(\n",
      "          (0): BatchNorm2d(16, eps=1e-05, momentum=0.1, affine=True, track_running_stats=True)\n",
      "          (1): ReLU()\n",
      "        )\n",
      "      )\n",
      "      (conv2): Conv3x3(\n",
      "        (conv): Conv2d(16, 16, kernel_size=(3, 3), stride=(1, 1), padding=(1, 1))\n",
      "        (out_module): Sequential(\n",
      "          (0): BatchNorm2d(16, eps=1e-05, momentum=0.1, affine=True, track_running_stats=True)\n",
      "        )\n",
      "      )\n",
      "      (relu): ReLU()\n",
      "    )\n",
      "    (4): ResidualBlock(\n",
      "      (conv1): Conv3x3(\n",
      "        (conv): Conv2d(16, 16, kernel_size=(3, 3), stride=(1, 1), padding=(1, 1))\n",
      "        (out_module): Sequential(\n",
      "          (0): BatchNorm2d(16, eps=1e-05, momentum=0.1, affine=True, track_running_stats=True)\n",
      "          (1): ReLU()\n",
      "        )\n",
      "      )\n",
      "      (conv2): Conv3x3(\n",
      "        (conv): Conv2d(16, 16, kernel_size=(3, 3), stride=(1, 1), padding=(1, 1))\n",
      "        (out_module): Sequential(\n",
      "          (0): BatchNorm2d(16, eps=1e-05, momentum=0.1, affine=True, track_running_stats=True)\n",
      "        )\n",
      "      )\n",
      "      (relu): ReLU()\n",
      "    )\n",
      "    (5): ResidualBlock(\n",
      "      (conv1): Conv3x3(\n",
      "        (conv): Conv2d(16, 16, kernel_size=(3, 3), stride=(1, 1), padding=(1, 1))\n",
      "        (out_module): Sequential(\n",
      "          (0): BatchNorm2d(16, eps=1e-05, momentum=0.1, affine=True, track_running_stats=True)\n",
      "          (1): ReLU()\n",
      "        )\n",
      "      )\n",
      "      (conv2): Conv3x3(\n",
      "        (conv): Conv2d(16, 16, kernel_size=(3, 3), stride=(1, 1), padding=(1, 1))\n",
      "        (out_module): Sequential(\n",
      "          (0): BatchNorm2d(16, eps=1e-05, momentum=0.1, affine=True, track_running_stats=True)\n",
      "        )\n",
      "      )\n",
      "      (relu): ReLU()\n",
      "    )\n",
      "    (6): ResidualBlock(\n",
      "      (conv1): Conv3x3(\n",
      "        (conv): Conv2d(16, 16, kernel_size=(3, 3), stride=(1, 1), padding=(1, 1))\n",
      "        (out_module): Sequential(\n",
      "          (0): BatchNorm2d(16, eps=1e-05, momentum=0.1, affine=True, track_running_stats=True)\n",
      "          (1): ReLU()\n",
      "        )\n",
      "      )\n",
      "      (conv2): Conv3x3(\n",
      "        (conv): Conv2d(16, 16, kernel_size=(3, 3), stride=(1, 1), padding=(1, 1))\n",
      "        (out_module): Sequential(\n",
      "          (0): BatchNorm2d(16, eps=1e-05, momentum=0.1, affine=True, track_running_stats=True)\n",
      "        )\n",
      "      )\n",
      "      (relu): ReLU()\n",
      "    )\n",
      "    (7): ResidualBlock(\n",
      "      (conv1): Conv3x3(\n",
      "        (conv): Conv2d(16, 16, kernel_size=(3, 3), stride=(1, 1), padding=(1, 1))\n",
      "        (out_module): Sequential(\n",
      "          (0): BatchNorm2d(16, eps=1e-05, momentum=0.1, affine=True, track_running_stats=True)\n",
      "          (1): ReLU()\n",
      "        )\n",
      "      )\n",
      "      (conv2): Conv3x3(\n",
      "        (conv): Conv2d(16, 16, kernel_size=(3, 3), stride=(1, 1), padding=(1, 1))\n",
      "        (out_module): Sequential(\n",
      "          (0): BatchNorm2d(16, eps=1e-05, momentum=0.1, affine=True, track_running_stats=True)\n",
      "        )\n",
      "      )\n",
      "      (relu): ReLU()\n",
      "    )\n",
      "    (8): ResidualBlock(\n",
      "      (conv1): Conv3x3(\n",
      "        (conv): Conv2d(16, 16, kernel_size=(3, 3), stride=(1, 1), padding=(1, 1))\n",
      "        (out_module): Sequential(\n",
      "          (0): BatchNorm2d(16, eps=1e-05, momentum=0.1, affine=True, track_running_stats=True)\n",
      "          (1): ReLU()\n",
      "        )\n",
      "      )\n",
      "      (conv2): Conv3x3(\n",
      "        (conv): Conv2d(16, 16, kernel_size=(3, 3), stride=(1, 1), padding=(1, 1))\n",
      "        (out_module): Sequential(\n",
      "          (0): BatchNorm2d(16, eps=1e-05, momentum=0.1, affine=True, track_running_stats=True)\n",
      "        )\n",
      "      )\n",
      "      (relu): ReLU()\n",
      "    )\n",
      "    (9): ResidualBlock(\n",
      "      (conv1): Conv3x3(\n",
      "        (conv): Conv2d(16, 16, kernel_size=(3, 3), stride=(1, 1), padding=(1, 1))\n",
      "        (out_module): Sequential(\n",
      "          (0): BatchNorm2d(16, eps=1e-05, momentum=0.1, affine=True, track_running_stats=True)\n",
      "          (1): ReLU()\n",
      "        )\n",
      "      )\n",
      "      (conv2): Conv3x3(\n",
      "        (conv): Conv2d(16, 16, kernel_size=(3, 3), stride=(1, 1), padding=(1, 1))\n",
      "        (out_module): Sequential(\n",
      "          (0): BatchNorm2d(16, eps=1e-05, momentum=0.1, affine=True, track_running_stats=True)\n",
      "        )\n",
      "      )\n",
      "      (relu): ReLU()\n",
      "    )\n",
      "  )\n",
      "  (conv3): Sequential(\n",
      "    (0): ResidualBlock(\n",
      "      (conv1): Conv3x3(\n",
      "        (conv): Conv2d(16, 32, kernel_size=(3, 3), stride=(2, 2), padding=(1, 1))\n",
      "        (out_module): Sequential(\n",
      "          (0): BatchNorm2d(32, eps=1e-05, momentum=0.1, affine=True, track_running_stats=True)\n",
      "          (1): ReLU()\n",
      "        )\n",
      "      )\n",
      "      (conv2): Conv3x3(\n",
      "        (conv): Conv2d(32, 32, kernel_size=(3, 3), stride=(1, 1), padding=(1, 1))\n",
      "        (out_module): Sequential(\n",
      "          (0): BatchNorm2d(32, eps=1e-05, momentum=0.1, affine=True, track_running_stats=True)\n",
      "        )\n",
      "      )\n",
      "      (relu): ReLU()\n",
      "      (conv1x1): Conv2d(16, 32, kernel_size=(1, 1), stride=(2, 2))\n",
      "    )\n",
      "    (1): ResidualBlock(\n",
      "      (conv1): Conv3x3(\n",
      "        (conv): Conv2d(32, 32, kernel_size=(3, 3), stride=(1, 1), padding=(1, 1))\n",
      "        (out_module): Sequential(\n",
      "          (0): BatchNorm2d(32, eps=1e-05, momentum=0.1, affine=True, track_running_stats=True)\n",
      "          (1): ReLU()\n",
      "        )\n",
      "      )\n",
      "      (conv2): Conv3x3(\n",
      "        (conv): Conv2d(32, 32, kernel_size=(3, 3), stride=(1, 1), padding=(1, 1))\n",
      "        (out_module): Sequential(\n",
      "          (0): BatchNorm2d(32, eps=1e-05, momentum=0.1, affine=True, track_running_stats=True)\n",
      "        )\n",
      "      )\n",
      "      (relu): ReLU()\n",
      "    )\n",
      "    (2): ResidualBlock(\n",
      "      (conv1): Conv3x3(\n",
      "        (conv): Conv2d(32, 32, kernel_size=(3, 3), stride=(1, 1), padding=(1, 1))\n",
      "        (out_module): Sequential(\n",
      "          (0): BatchNorm2d(32, eps=1e-05, momentum=0.1, affine=True, track_running_stats=True)\n",
      "          (1): ReLU()\n",
      "        )\n",
      "      )\n",
      "      (conv2): Conv3x3(\n",
      "        (conv): Conv2d(32, 32, kernel_size=(3, 3), stride=(1, 1), padding=(1, 1))\n",
      "        (out_module): Sequential(\n",
      "          (0): BatchNorm2d(32, eps=1e-05, momentum=0.1, affine=True, track_running_stats=True)\n",
      "        )\n",
      "      )\n",
      "      (relu): ReLU()\n",
      "    )\n",
      "    (3): ResidualBlock(\n",
      "      (conv1): Conv3x3(\n",
      "        (conv): Conv2d(32, 32, kernel_size=(3, 3), stride=(1, 1), padding=(1, 1))\n",
      "        (out_module): Sequential(\n",
      "          (0): BatchNorm2d(32, eps=1e-05, momentum=0.1, affine=True, track_running_stats=True)\n",
      "          (1): ReLU()\n",
      "        )\n",
      "      )\n",
      "      (conv2): Conv3x3(\n",
      "        (conv): Conv2d(32, 32, kernel_size=(3, 3), stride=(1, 1), padding=(1, 1))\n",
      "        (out_module): Sequential(\n",
      "          (0): BatchNorm2d(32, eps=1e-05, momentum=0.1, affine=True, track_running_stats=True)\n",
      "        )\n",
      "      )\n",
      "      (relu): ReLU()\n",
      "    )\n",
      "    (4): ResidualBlock(\n",
      "      (conv1): Conv3x3(\n",
      "        (conv): Conv2d(32, 32, kernel_size=(3, 3), stride=(1, 1), padding=(1, 1))\n",
      "        (out_module): Sequential(\n",
      "          (0): BatchNorm2d(32, eps=1e-05, momentum=0.1, affine=True, track_running_stats=True)\n",
      "          (1): ReLU()\n",
      "        )\n",
      "      )\n",
      "      (conv2): Conv3x3(\n",
      "        (conv): Conv2d(32, 32, kernel_size=(3, 3), stride=(1, 1), padding=(1, 1))\n",
      "        (out_module): Sequential(\n",
      "          (0): BatchNorm2d(32, eps=1e-05, momentum=0.1, affine=True, track_running_stats=True)\n",
      "        )\n",
      "      )\n",
      "      (relu): ReLU()\n",
      "    )\n",
      "    (5): ResidualBlock(\n",
      "      (conv1): Conv3x3(\n",
      "        (conv): Conv2d(32, 32, kernel_size=(3, 3), stride=(1, 1), padding=(1, 1))\n",
      "        (out_module): Sequential(\n",
      "          (0): BatchNorm2d(32, eps=1e-05, momentum=0.1, affine=True, track_running_stats=True)\n",
      "          (1): ReLU()\n",
      "        )\n",
      "      )\n",
      "      (conv2): Conv3x3(\n",
      "        (conv): Conv2d(32, 32, kernel_size=(3, 3), stride=(1, 1), padding=(1, 1))\n",
      "        (out_module): Sequential(\n",
      "          (0): BatchNorm2d(32, eps=1e-05, momentum=0.1, affine=True, track_running_stats=True)\n",
      "        )\n",
      "      )\n",
      "      (relu): ReLU()\n",
      "    )\n",
      "    (6): ResidualBlock(\n",
      "      (conv1): Conv3x3(\n",
      "        (conv): Conv2d(32, 32, kernel_size=(3, 3), stride=(1, 1), padding=(1, 1))\n",
      "        (out_module): Sequential(\n",
      "          (0): BatchNorm2d(32, eps=1e-05, momentum=0.1, affine=True, track_running_stats=True)\n",
      "          (1): ReLU()\n",
      "        )\n",
      "      )\n",
      "      (conv2): Conv3x3(\n",
      "        (conv): Conv2d(32, 32, kernel_size=(3, 3), stride=(1, 1), padding=(1, 1))\n",
      "        (out_module): Sequential(\n",
      "          (0): BatchNorm2d(32, eps=1e-05, momentum=0.1, affine=True, track_running_stats=True)\n",
      "        )\n",
      "      )\n",
      "      (relu): ReLU()\n",
      "    )\n",
      "    (7): ResidualBlock(\n",
      "      (conv1): Conv3x3(\n",
      "        (conv): Conv2d(32, 32, kernel_size=(3, 3), stride=(1, 1), padding=(1, 1))\n",
      "        (out_module): Sequential(\n",
      "          (0): BatchNorm2d(32, eps=1e-05, momentum=0.1, affine=True, track_running_stats=True)\n",
      "          (1): ReLU()\n",
      "        )\n",
      "      )\n",
      "      (conv2): Conv3x3(\n",
      "        (conv): Conv2d(32, 32, kernel_size=(3, 3), stride=(1, 1), padding=(1, 1))\n",
      "        (out_module): Sequential(\n",
      "          (0): BatchNorm2d(32, eps=1e-05, momentum=0.1, affine=True, track_running_stats=True)\n",
      "        )\n",
      "      )\n",
      "      (relu): ReLU()\n",
      "    )\n",
      "    (8): ResidualBlock(\n",
      "      (conv1): Conv3x3(\n",
      "        (conv): Conv2d(32, 32, kernel_size=(3, 3), stride=(1, 1), padding=(1, 1))\n",
      "        (out_module): Sequential(\n",
      "          (0): BatchNorm2d(32, eps=1e-05, momentum=0.1, affine=True, track_running_stats=True)\n",
      "          (1): ReLU()\n",
      "        )\n",
      "      )\n",
      "      (conv2): Conv3x3(\n",
      "        (conv): Conv2d(32, 32, kernel_size=(3, 3), stride=(1, 1), padding=(1, 1))\n",
      "        (out_module): Sequential(\n",
      "          (0): BatchNorm2d(32, eps=1e-05, momentum=0.1, affine=True, track_running_stats=True)\n",
      "        )\n",
      "      )\n",
      "      (relu): ReLU()\n",
      "    )\n",
      "    (9): ResidualBlock(\n",
      "      (conv1): Conv3x3(\n",
      "        (conv): Conv2d(32, 32, kernel_size=(3, 3), stride=(1, 1), padding=(1, 1))\n",
      "        (out_module): Sequential(\n",
      "          (0): BatchNorm2d(32, eps=1e-05, momentum=0.1, affine=True, track_running_stats=True)\n",
      "          (1): ReLU()\n",
      "        )\n",
      "      )\n",
      "      (conv2): Conv3x3(\n",
      "        (conv): Conv2d(32, 32, kernel_size=(3, 3), stride=(1, 1), padding=(1, 1))\n",
      "        (out_module): Sequential(\n",
      "          (0): BatchNorm2d(32, eps=1e-05, momentum=0.1, affine=True, track_running_stats=True)\n",
      "        )\n",
      "      )\n",
      "      (relu): ReLU()\n",
      "    )\n",
      "  )\n",
      "  (conv4): Sequential(\n",
      "    (0): ResidualBlock(\n",
      "      (conv1): Conv3x3(\n",
      "        (conv): Conv2d(32, 64, kernel_size=(3, 3), stride=(2, 2), padding=(1, 1))\n",
      "        (out_module): Sequential(\n",
      "          (0): BatchNorm2d(64, eps=1e-05, momentum=0.1, affine=True, track_running_stats=True)\n",
      "          (1): ReLU()\n",
      "        )\n",
      "      )\n",
      "      (conv2): Conv3x3(\n",
      "        (conv): Conv2d(64, 64, kernel_size=(3, 3), stride=(1, 1), padding=(1, 1))\n",
      "        (out_module): Sequential(\n",
      "          (0): BatchNorm2d(64, eps=1e-05, momentum=0.1, affine=True, track_running_stats=True)\n",
      "        )\n",
      "      )\n",
      "      (relu): ReLU()\n",
      "      (conv1x1): Conv2d(32, 64, kernel_size=(1, 1), stride=(2, 2))\n",
      "    )\n",
      "    (1): ResidualBlock(\n",
      "      (conv1): Conv3x3(\n",
      "        (conv): Conv2d(64, 64, kernel_size=(3, 3), stride=(1, 1), padding=(1, 1))\n",
      "        (out_module): Sequential(\n",
      "          (0): BatchNorm2d(64, eps=1e-05, momentum=0.1, affine=True, track_running_stats=True)\n",
      "          (1): ReLU()\n",
      "        )\n",
      "      )\n",
      "      (conv2): Conv3x3(\n",
      "        (conv): Conv2d(64, 64, kernel_size=(3, 3), stride=(1, 1), padding=(1, 1))\n",
      "        (out_module): Sequential(\n",
      "          (0): BatchNorm2d(64, eps=1e-05, momentum=0.1, affine=True, track_running_stats=True)\n",
      "        )\n",
      "      )\n",
      "      (relu): ReLU()\n",
      "    )\n",
      "    (2): ResidualBlock(\n",
      "      (conv1): Conv3x3(\n",
      "        (conv): Conv2d(64, 64, kernel_size=(3, 3), stride=(1, 1), padding=(1, 1))\n",
      "        (out_module): Sequential(\n",
      "          (0): BatchNorm2d(64, eps=1e-05, momentum=0.1, affine=True, track_running_stats=True)\n",
      "          (1): ReLU()\n",
      "        )\n",
      "      )\n",
      "      (conv2): Conv3x3(\n",
      "        (conv): Conv2d(64, 64, kernel_size=(3, 3), stride=(1, 1), padding=(1, 1))\n",
      "        (out_module): Sequential(\n",
      "          (0): BatchNorm2d(64, eps=1e-05, momentum=0.1, affine=True, track_running_stats=True)\n",
      "        )\n",
      "      )\n",
      "      (relu): ReLU()\n",
      "    )\n",
      "    (3): ResidualBlock(\n",
      "      (conv1): Conv3x3(\n",
      "        (conv): Conv2d(64, 64, kernel_size=(3, 3), stride=(1, 1), padding=(1, 1))\n",
      "        (out_module): Sequential(\n",
      "          (0): BatchNorm2d(64, eps=1e-05, momentum=0.1, affine=True, track_running_stats=True)\n",
      "          (1): ReLU()\n",
      "        )\n",
      "      )\n",
      "      (conv2): Conv3x3(\n",
      "        (conv): Conv2d(64, 64, kernel_size=(3, 3), stride=(1, 1), padding=(1, 1))\n",
      "        (out_module): Sequential(\n",
      "          (0): BatchNorm2d(64, eps=1e-05, momentum=0.1, affine=True, track_running_stats=True)\n",
      "        )\n",
      "      )\n",
      "      (relu): ReLU()\n",
      "    )\n",
      "    (4): ResidualBlock(\n",
      "      (conv1): Conv3x3(\n",
      "        (conv): Conv2d(64, 64, kernel_size=(3, 3), stride=(1, 1), padding=(1, 1))\n",
      "        (out_module): Sequential(\n",
      "          (0): BatchNorm2d(64, eps=1e-05, momentum=0.1, affine=True, track_running_stats=True)\n",
      "          (1): ReLU()\n",
      "        )\n",
      "      )\n",
      "      (conv2): Conv3x3(\n",
      "        (conv): Conv2d(64, 64, kernel_size=(3, 3), stride=(1, 1), padding=(1, 1))\n",
      "        (out_module): Sequential(\n",
      "          (0): BatchNorm2d(64, eps=1e-05, momentum=0.1, affine=True, track_running_stats=True)\n",
      "        )\n",
      "      )\n",
      "      (relu): ReLU()\n",
      "    )\n",
      "    (5): ResidualBlock(\n",
      "      (conv1): Conv3x3(\n",
      "        (conv): Conv2d(64, 64, kernel_size=(3, 3), stride=(1, 1), padding=(1, 1))\n",
      "        (out_module): Sequential(\n",
      "          (0): BatchNorm2d(64, eps=1e-05, momentum=0.1, affine=True, track_running_stats=True)\n",
      "          (1): ReLU()\n",
      "        )\n",
      "      )\n",
      "      (conv2): Conv3x3(\n",
      "        (conv): Conv2d(64, 64, kernel_size=(3, 3), stride=(1, 1), padding=(1, 1))\n",
      "        (out_module): Sequential(\n",
      "          (0): BatchNorm2d(64, eps=1e-05, momentum=0.1, affine=True, track_running_stats=True)\n",
      "        )\n",
      "      )\n",
      "      (relu): ReLU()\n",
      "    )\n",
      "    (6): ResidualBlock(\n",
      "      (conv1): Conv3x3(\n",
      "        (conv): Conv2d(64, 64, kernel_size=(3, 3), stride=(1, 1), padding=(1, 1))\n",
      "        (out_module): Sequential(\n",
      "          (0): BatchNorm2d(64, eps=1e-05, momentum=0.1, affine=True, track_running_stats=True)\n",
      "          (1): ReLU()\n",
      "        )\n",
      "      )\n",
      "      (conv2): Conv3x3(\n",
      "        (conv): Conv2d(64, 64, kernel_size=(3, 3), stride=(1, 1), padding=(1, 1))\n",
      "        (out_module): Sequential(\n",
      "          (0): BatchNorm2d(64, eps=1e-05, momentum=0.1, affine=True, track_running_stats=True)\n",
      "        )\n",
      "      )\n",
      "      (relu): ReLU()\n",
      "    )\n",
      "    (7): ResidualBlock(\n",
      "      (conv1): Conv3x3(\n",
      "        (conv): Conv2d(64, 64, kernel_size=(3, 3), stride=(1, 1), padding=(1, 1))\n",
      "        (out_module): Sequential(\n",
      "          (0): BatchNorm2d(64, eps=1e-05, momentum=0.1, affine=True, track_running_stats=True)\n",
      "          (1): ReLU()\n",
      "        )\n",
      "      )\n",
      "      (conv2): Conv3x3(\n",
      "        (conv): Conv2d(64, 64, kernel_size=(3, 3), stride=(1, 1), padding=(1, 1))\n",
      "        (out_module): Sequential(\n",
      "          (0): BatchNorm2d(64, eps=1e-05, momentum=0.1, affine=True, track_running_stats=True)\n",
      "        )\n",
      "      )\n",
      "      (relu): ReLU()\n",
      "    )\n",
      "    (8): ResidualBlock(\n",
      "      (conv1): Conv3x3(\n",
      "        (conv): Conv2d(64, 64, kernel_size=(3, 3), stride=(1, 1), padding=(1, 1))\n",
      "        (out_module): Sequential(\n",
      "          (0): BatchNorm2d(64, eps=1e-05, momentum=0.1, affine=True, track_running_stats=True)\n",
      "          (1): ReLU()\n",
      "        )\n",
      "      )\n",
      "      (conv2): Conv3x3(\n",
      "        (conv): Conv2d(64, 64, kernel_size=(3, 3), stride=(1, 1), padding=(1, 1))\n",
      "        (out_module): Sequential(\n",
      "          (0): BatchNorm2d(64, eps=1e-05, momentum=0.1, affine=True, track_running_stats=True)\n",
      "        )\n",
      "      )\n",
      "      (relu): ReLU()\n",
      "    )\n",
      "    (9): ResidualBlock(\n",
      "      (conv1): Conv3x3(\n",
      "        (conv): Conv2d(64, 64, kernel_size=(3, 3), stride=(1, 1), padding=(1, 1))\n",
      "        (out_module): Sequential(\n",
      "          (0): BatchNorm2d(64, eps=1e-05, momentum=0.1, affine=True, track_running_stats=True)\n",
      "          (1): ReLU()\n",
      "        )\n",
      "      )\n",
      "      (conv2): Conv3x3(\n",
      "        (conv): Conv2d(64, 64, kernel_size=(3, 3), stride=(1, 1), padding=(1, 1))\n",
      "        (out_module): Sequential(\n",
      "          (0): BatchNorm2d(64, eps=1e-05, momentum=0.1, affine=True, track_running_stats=True)\n",
      "        )\n",
      "      )\n",
      "      (relu): ReLU()\n",
      "    )\n",
      "  )\n",
      "  (classifier): Sequential(\n",
      "    (0): AdaptiveAvgPool2d(output_size=(1, 1))\n",
      "    (1): Flatten(start_dim=1, end_dim=-1)\n",
      "    (2): Linear(in_features=64, out_features=10, bias=True)\n",
      "  )\n",
      ")\n"
     ]
    }
   ],
   "source": [
    "model = model.to(device)\n",
    "print(model)"
   ]
  },
  {
   "cell_type": "markdown",
   "metadata": {
    "id": "Y5wEN_6BG9Ih",
    "tags": []
   },
   "source": [
    "### Обучение"
   ]
  },
  {
   "cell_type": "markdown",
   "metadata": {
    "id": "o-1WWgnxG9Ii"
   },
   "source": [
    "Задаем функцию потерь (цель оптимизации) и оптимизатор."
   ]
  },
  {
   "cell_type": "code",
   "execution_count": 14,
   "metadata": {
    "id": "yY7CXtMYG9Ii"
   },
   "outputs": [],
   "source": [
    "loss_fn = nn.CrossEntropyLoss()\n",
    "optimizer = torch.optim.Adam(model.parameters(), lr=1e-3, weight_decay=1e-4)"
   ]
  },
  {
   "cell_type": "markdown",
   "metadata": {
    "id": "pMNO54CZG9Ii"
   },
   "source": [
    "Код для визуализации процесса обучения.\n",
    "\n",
    "Каждые `interval` шагов оптимизации и в конце эпох мы записываем значения функции потерь и метрик в лог. <br>\n",
    "Затем вызовом функции `show_progress` обновляем график обучения. <br>"
   ]
  },
  {
   "cell_type": "code",
   "execution_count": 15,
   "metadata": {
    "id": "rFWRUYv7G9Ik"
   },
   "outputs": [],
   "source": [
    "# Training logs\n",
    "interval = 100\n",
    "train_ts, train_loss = [], []\n",
    "val_ts, val_loss, val_acc = [], [], []"
   ]
  },
  {
   "cell_type": "code",
   "execution_count": 16,
   "metadata": {
    "id": "UBMWEFpBG9Ik"
   },
   "outputs": [],
   "source": [
    "def show_progress(t):\n",
    "    clear_output(wait=True)\n",
    "    fig, (ax1, ax2) = plt.subplots(1, 2, constrained_layout=True, figsize=(20, 5))\n",
    "    fig.suptitle(f'Epoch {t:3.3f}', fontsize=16)\n",
    "    ax1.set_title('loss')\n",
    "    ax1.set_xlabel('time (epochs)')\n",
    "    ax1.set_ylabel('loss')\n",
    "    ax1.plot(train_ts, train_loss, c='darkblue', lw=3)\n",
    "    ax1.plot(val_ts, val_loss, c='green', marker='o', lw=5)\n",
    "    ax2.set_title('accuracy')\n",
    "    ax2.set_xlabel('time (epochs)')\n",
    "    ax2.plot(val_ts, val_acc, c='green', marker='o', lw=5)\n",
    "    plt.show() "
   ]
  },
  {
   "cell_type": "code",
   "execution_count": 17,
   "metadata": {
    "id": "J73Mczw8G9Il"
   },
   "outputs": [],
   "source": [
    "def train(epoch, dataloader, model, loss_fn, optimizer):\n",
    "    model.train()\n",
    "    num_batches = len(dataloader)\n",
    "    for batch, (X, y) in enumerate(dataloader):\n",
    "        # Send data to training device\n",
    "        X, y = X.to(device), y.to(device)\n",
    "        # Compute prediction error\n",
    "        pred = model(X)\n",
    "        loss = loss_fn(pred, y)\n",
    "        # Backpropagation\n",
    "        optimizer.zero_grad()\n",
    "        loss.backward()\n",
    "        optimizer.step()\n",
    "        # Progress output\n",
    "        if batch % interval == 0:\n",
    "            t = epoch + (batch + 1)/num_batches\n",
    "            train_ts.append(t)\n",
    "            train_loss.append(loss.item())\n",
    "            show_progress(t)"
   ]
  },
  {
   "cell_type": "code",
   "execution_count": 18,
   "metadata": {
    "id": "q0JV_05_G9Il"
   },
   "outputs": [],
   "source": [
    "def test(epoch, dataloader, model, loss_fn):\n",
    "    model.eval()\n",
    "    num_batches = len(dataloader)\n",
    "    size = len(dataloader.dataset)\n",
    "    test_loss, correct = 0, 0\n",
    "    with torch.no_grad():\n",
    "        for X, y in dataloader:\n",
    "            X, y = X.to(device), y.to(device)\n",
    "            pred = model(X)\n",
    "            test_loss += loss_fn(pred, y).item()\n",
    "            correct += (pred.argmax(1) == y).type(torch.float).sum().item()\n",
    "    test_loss /= num_batches\n",
    "    correct /= size\n",
    "    val_ts.append(epoch+1)\n",
    "    val_loss.append(test_loss)\n",
    "    val_acc.append(correct)\n",
    "    show_progress(epoch+1)"
   ]
  },
  {
   "cell_type": "markdown",
   "metadata": {
    "id": "1PTeo8aKG9Il"
   },
   "source": [
    "Цикл обучения."
   ]
  },
  {
   "cell_type": "code",
   "execution_count": 19,
   "metadata": {
    "id": "CAPMHsGhG9Im",
    "outputId": "a0a75bf6-2b37-4f70-dc68-de6ea1944e23"
   },
   "outputs": [
    {
     "data": {
      "image/png": "[encoded data removed]",
      "text/plain": [
       "<Figure size 1440x360 with 2 Axes>"
      ]
     },
     "metadata": {
      "needs_background": "light"
     },
     "output_type": "display_data"
    },
    {
     "name": "stderr",
     "output_type": "stream",
     "text": [
      "100%|███████████████████████████████████████████| 50/50 [31:23<00:00, 37.67s/it]\n"
     ]
    }
   ],
   "source": [
    "epochs = 50\n",
    "scheduler = torch.optim.lr_scheduler.ReduceLROnPlateau(optimizer, 'min', factor=0.25, patience=4)\n",
    "for t in trange(epochs):\n",
    "    train(t, train_dataloader, model, loss_fn, optimizer)\n",
    "    test(t, val_dataloader, model, loss_fn)\n",
    "    scheduler.step(val_loss[-1])"
   ]
  },
  {
   "cell_type": "code",
   "execution_count": 20,
   "metadata": {},
   "outputs": [
    {
     "data": {
      "text/plain": [
       "0.8938200000000001"
      ]
     },
     "execution_count": 20,
     "metadata": {},
     "output_type": "execute_result"
    }
   ],
   "source": [
    "np.mean(sorted(val_acc)[-5:])"
   ]
  },
  {
   "cell_type": "markdown",
   "metadata": {
    "id": "iZ-Tyj3-G9Im"
   },
   "source": [
    "### Отправка решения"
   ]
  },
  {
   "cell_type": "markdown",
   "metadata": {
    "id": "_PtkIkUsG9Im"
   },
   "source": [
    "Загружаем часть датасета для теста."
   ]
  },
  {
   "cell_type": "code",
   "execution_count": 21,
   "metadata": {
    "id": "ZrogskJDG9Im"
   },
   "outputs": [],
   "source": [
    "test_data = CIFAR10(\n",
    "    root=dataset_root,\n",
    "    train=False,\n",
    "    transform=T.Compose([\n",
    "        T.ToTensor(),\n",
    "        T.Normalize(mean=[0.485, 0.456, 0.406],\n",
    "                    std=[0.229, 0.224, 0.225]),\n",
    "    ])\n",
    ")"
   ]
  },
  {
   "cell_type": "code",
   "execution_count": 22,
   "metadata": {
    "id": "XTREMaKBG9Io"
   },
   "outputs": [],
   "source": [
    "test_dataloader = DataLoader(\n",
    "    test_data, \n",
    "    batch_size=batch_size,\n",
    ")"
   ]
  },
  {
   "cell_type": "markdown",
   "metadata": {
    "id": "i63WwoOdG9Io"
   },
   "source": [
    "Делаем предсказания итоговой моделью."
   ]
  },
  {
   "cell_type": "code",
   "execution_count": 23,
   "metadata": {
    "id": "bYVwjcUYG9Io"
   },
   "outputs": [],
   "source": [
    "predictions = []\n",
    "\n",
    "model.eval()\n",
    "with torch.no_grad():\n",
    "    for X, _ in test_dataloader:\n",
    "        X = X.to(device)\n",
    "        pred = model(X).argmax(1).cpu().numpy()\n",
    "        predictions.extend(list(pred))"
   ]
  },
  {
   "cell_type": "markdown",
   "metadata": {
    "id": "uViY1xXtG9Ip"
   },
   "source": [
    "Формируем файл решения для отправки в kaggle."
   ]
  },
  {
   "cell_type": "code",
   "execution_count": 24,
   "metadata": {
    "id": "pO4QZrCgG9Ip"
   },
   "outputs": [],
   "source": [
    "def write_solution(filename, labels):\n",
    "    with open(filename, 'w') as solution:\n",
    "        print('Id,Category', file=solution)\n",
    "        for i, label in enumerate(labels):\n",
    "            print(f'{i},{label}', file=solution)\n",
    "            \n",
    "write_solution('solution.csv', predictions)"
   ]
  },
  {
   "cell_type": "code",
   "execution_count": null,
   "metadata": {},
   "outputs": [],
   "source": []
  }
 ],
 "metadata": {
  "colab": {
   "collapsed_sections": [],
   "name": "homework5.ipynb",
   "provenance": []
  },
  "interpreter": {
   "hash": "49448eeb8252ad14269e9870f41be38726e4e73e71663eea00cd1e0ba3be12df"
  },
  "kernelspec": {
   "display_name": "Python 3 (ipykernel)",
   "language": "python",
   "name": "python3"
  },
  "language_info": {
   "codemirror_mode": {
    "name": "ipython",
    "version": 3
   },
   "file_extension": ".py",
   "mimetype": "text/x-python",
   "name": "python",
   "nbconvert_exporter": "python",
   "pygments_lexer": "ipython3",
   "version": "3.10.4"
  }
 },
 "nbformat": 4,
 "nbformat_minor": 4
}
